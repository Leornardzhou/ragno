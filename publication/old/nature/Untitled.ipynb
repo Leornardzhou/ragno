{
 "cells": [
  {
   "cell_type": "code",
   "execution_count": 1,
   "metadata": {},
   "outputs": [],
   "source": [
    "import utils\n"
   ]
  },
  {
   "cell_type": "code",
   "execution_count": 2,
   "metadata": {},
   "outputs": [],
   "source": [
    "driver = utils.start_driver('chrome')"
   ]
  },
  {
   "cell_type": "code",
   "execution_count": 6,
   "metadata": {},
   "outputs": [],
   "source": [
    "utils.open_url(driver, url)"
   ]
  },
  {
   "cell_type": "code",
   "execution_count": 4,
   "metadata": {},
   "outputs": [],
   "source": [
    "url = 'https://www.nature.com/nature/journal/v552/n7685/index.html'"
   ]
  },
  {
   "cell_type": "code",
   "execution_count": 51,
   "metadata": {},
   "outputs": [],
   "source": [
    "def minimize_survey(driver):\n",
    "    driver.find_element_by_xpath('//div[@class=\"qual_x_close\"]').click()\n",
    "    \n",
    "    \n",
    "def get_articles(driver, subsect_id):\n",
    "    \n",
    "    article_index = 0\n",
    "    for article in driver.find_elements_by_xpath('//div[@id=\"'+subsect_id+'\"]//article'):\n",
    "        article_index += 1\n",
    "        if article_index != 7:\n",
    "            continue\n",
    "        \n",
    "        url = article.find_element_by_xpath('./div/hgroup/h1/a')\n",
    "        print(url)\n",
    "        \n",
    "        title = url.text\n",
    "        print(title)\n",
    "        \n",
    "        url = url.get_attribute('href')\n",
    "        print(url)\n",
    "        \n",
    "        brief = article.find_element_by_xpath('./div/p[@class=\"standfirst\"]').text\n",
    "        print(brief)\n",
    "        \n",
    "        author_list = []\n",
    "        # expand et al\n",
    "        try:\n",
    "            article.find_element_by_xpath('./div/ul/li[@class=\"etal\" and @title]/a').click()\n",
    "        except:\n",
    "            pass\n",
    "        \n",
    "        for li in article.find_elements_by_xpath('./div/ul[starts-with(@class, \"authors\")]/li'):\n",
    "            if li.get_attribute('class') == 'etal':\n",
    "                continue\n",
    "            author = li.text.replace(', ', '').replace('& ','')\n",
    "            author_list.append(author)\n",
    "        print(author_list)\n",
    "        \n",
    "        try:\n",
    "            article.find_element_by_xpath('./div/hgroup/h1/abbr[@title=\"open-access\"]')\n",
    "            is_open = True\n",
    "        except:\n",
    "            is_open = False\n",
    "        print(is_open)\n",
    "        \n",
    "        try:\n",
    "            article.find_element_by_xpath('./div/dl[@class=\"see-also\"]')\n",
    "            has_see_also = True\n",
    "        except:\n",
    "            has_see_also = False\n",
    "        print(has_see_also)\n",
    "        \n",
    "#         print(url, title, author_list, brief, is_open, has_see_also)\n",
    "        print()\n",
    "#    elem_letters = driver.find_element_by_xpath('//div[@id=\"lt\"]')\n",
    "    \n",
    "    \n",
    "    "
   ]
  },
  {
   "cell_type": "code",
   "execution_count": 9,
   "metadata": {},
   "outputs": [],
   "source": [
    "a = driver.find_element_by_xpath('//a[starts-with(@href,\"/nature/journal/v552/n7685/full/nature25002.html\")]')"
   ]
  },
  {
   "cell_type": "code",
   "execution_count": 10,
   "metadata": {},
   "outputs": [
    {
     "data": {
      "text/plain": [
       "'Synthesis of E- and Z-trisubstituted alkenes by catalytic cross-metathesis'"
      ]
     },
     "execution_count": 10,
     "metadata": {},
     "output_type": "execute_result"
    }
   ],
   "source": [
    "a.text"
   ]
  },
  {
   "cell_type": "code",
   "execution_count": 12,
   "metadata": {},
   "outputs": [],
   "source": []
  },
  {
   "cell_type": "code",
   "execution_count": 54,
   "metadata": {},
   "outputs": [
    {
     "name": "stdout",
     "output_type": "stream",
     "text": [
      "<selenium.webdriver.remote.webelement.WebElement (session=\"a5b2c118c19ab2d69ccb7c0f9f1dfbaf\", element=\"0.810808429353076-420\")>\n",
      "Atmospheric trace gases support primary production in Antarctic desert surface soil\n",
      "https://www.nature.com/nature/journal/v552/n7685/full/nature25014.html\n",
      "Metagenomic and biochemical analyses of soil samples from Antarctic desert regions provides evidence that bacteria in these soils derive carbon and energy from atmospheric CO, H2 and CO2.\n",
      "['Mukan Ji', 'Chris Greening', 'Inka Vanwonterghem', 'Carlo R. Carere', 'Sean K. Bay', 'Jason A. Steen', 'Kate Montgomery', 'Thomas Lines', 'John Beardall', 'Josie van Dorst', 'Ian Snape', 'Matthew B. Stott', 'Philip Hugenholtz ', 'Belinda C. Ferrari']\n",
      "True\n",
      "True\n",
      "\n"
     ]
    }
   ],
   "source": [
    "get_articles(driver, \"lt\")"
   ]
  },
  {
   "cell_type": "code",
   "execution_count": null,
   "metadata": {},
   "outputs": [],
   "source": []
  }
 ],
 "metadata": {
  "kernelspec": {
   "display_name": "Python 3",
   "language": "python",
   "name": "python3"
  },
  "language_info": {
   "codemirror_mode": {
    "name": "ipython",
    "version": 3
   },
   "file_extension": ".py",
   "mimetype": "text/x-python",
   "name": "python",
   "nbconvert_exporter": "python",
   "pygments_lexer": "ipython3",
   "version": "3.5.1"
  }
 },
 "nbformat": 4,
 "nbformat_minor": 2
}
