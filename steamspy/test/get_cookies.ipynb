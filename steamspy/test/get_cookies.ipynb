{
 "cells": [
  {
   "cell_type": "code",
   "execution_count": null,
   "metadata": {},
   "outputs": [],
   "source": [
    "'''Go through the following script to manually login to steamspy, generate the cookies and save to disk.\n",
    "'''"
   ]
  },
  {
   "cell_type": "code",
   "execution_count": 48,
   "metadata": {},
   "outputs": [],
   "source": [
    "from selenium import webdriver\n",
    "import json"
   ]
  },
  {
   "cell_type": "code",
   "execution_count": 49,
   "metadata": {},
   "outputs": [],
   "source": [
    "def generate_cookies(driver):\n",
    "    driver.get('http://steamspy.com/login/')\n",
    "    # perform login operation, or use the following (not safe)\n",
    "    # driver.find_element_by_xpath('//input[@name=\"username\"]').send_keys('myusername')\n",
    "    # driver.find_element_by_xpath('//input[@name=\"password\"]').send_keys('123456789')\n",
    "    \n",
    "def logout(driver):\n",
    "    # logout steamspy\n",
    "    driver.get('http://steamspy.com/logout/')\n",
    "    \n",
    "def save_cookies(driver, out_name):\n",
    "    # save cookies to disk (after manual login)\n",
    "    cookie_dict = driver.get_cookies()\n",
    "    print(json.dumps(cookie_dict))\n",
    "    fout = open(out_name, 'w')\n",
    "    print(json.dumps(cookie_dict), file=fout)\n",
    "    fout.close()\n",
    "    \n",
    "def load_cookies(driver, in_name):\n",
    "    # load the saved cookies from disk\n",
    "    cookie_dict = json.loads(open(in_name).read())\n",
    "    for x in cookie_dict:\n",
    "        driver.add_cookie(x)\n",
    "    driver.get('http://steamspy.com/')"
   ]
  },
  {
   "cell_type": "code",
   "execution_count": 50,
   "metadata": {},
   "outputs": [],
   "source": [
    "cookie_fname = 'cookies/cookies.json'"
   ]
  },
  {
   "cell_type": "code",
   "execution_count": 51,
   "metadata": {},
   "outputs": [],
   "source": [
    "# start driver and manual login\n",
    "driver = webdriver.Chrome()\n",
    "generate_cookies(driver)\n",
    "# perform manual login now"
   ]
  },
  {
   "cell_type": "code",
   "execution_count": 52,
   "metadata": {},
   "outputs": [
    {
     "name": "stdout",
     "output_type": "stream",
     "text": [
      "[{\"name\": \"_gat\", \"value\": \"1\", \"secure\": false, \"path\": \"/\", \"httpOnly\": false, \"domain\": \".steamspy.com\", \"expiry\": 1520923236}, {\"name\": \"SteamSpySession\", \"value\": \"6abd2b4800813f512c0e63f0a4beb736e5f15dfd\", \"secure\": false, \"path\": \"/\", \"httpOnly\": false, \"domain\": \"steamspy.com\", \"expiry\": 1523515188.959723}, {\"name\": \"_gid\", \"value\": \"GA1.2.111835164.1520923176\", \"secure\": false, \"path\": \"/\", \"httpOnly\": false, \"domain\": \".steamspy.com\", \"expiry\": 1521009604}, {\"name\": \"__cfduid\", \"value\": \"d54a8c7604c3eba8db291a4c87eb7348f1520923174\", \"secure\": false, \"path\": \"/\", \"httpOnly\": true, \"domain\": \".steamspy.com\", \"expiry\": 1552459174.17107}, {\"name\": \"PHPSESSID\", \"value\": \"7fereprjj50ssd2rrom427nht3\", \"secure\": false, \"path\": \"/\", \"httpOnly\": false, \"domain\": \"steamspy.com\"}, {\"name\": \"_ga\", \"value\": \"GA1.2.878433387.1520923176\", \"secure\": false, \"path\": \"/\", \"httpOnly\": false, \"domain\": \".steamspy.com\", \"expiry\": 1583995204}]\n"
     ]
    }
   ],
   "source": [
    "# now save cookies to disk\n",
    "save_cookies(driver, cookie_fname)"
   ]
  },
  {
   "cell_type": "code",
   "execution_count": 53,
   "metadata": {},
   "outputs": [],
   "source": [
    "# logout and test cookies\n",
    "logout(driver)\n",
    "load_cookies(driver, cookie_fname)"
   ]
  },
  {
   "cell_type": "code",
   "execution_count": 54,
   "metadata": {},
   "outputs": [],
   "source": [
    "# clean up and close\n",
    "driver.close()"
   ]
  },
  {
   "cell_type": "code",
   "execution_count": null,
   "metadata": {},
   "outputs": [],
   "source": []
  }
 ],
 "metadata": {
  "kernelspec": {
   "display_name": "Python 3",
   "language": "python",
   "name": "python3"
  },
  "language_info": {
   "codemirror_mode": {
    "name": "ipython",
    "version": 3
   },
   "file_extension": ".py",
   "mimetype": "text/x-python",
   "name": "python",
   "nbconvert_exporter": "python",
   "pygments_lexer": "ipython3",
   "version": "3.5.1"
  }
 },
 "nbformat": 4,
 "nbformat_minor": 2
}
