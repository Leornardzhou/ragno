{
 "cells": [
  {
   "cell_type": "code",
   "execution_count": 2,
   "metadata": {},
   "outputs": [],
   "source": [
    "import imp\n",
    "import session\n",
    "import crawler\n",
    "import utils\n",
    "import time"
   ]
  },
  {
   "cell_type": "code",
   "execution_count": 3,
   "metadata": {},
   "outputs": [
    {
     "data": {
      "text/plain": [
       "<module 'crawler' from '/Users/zyhuang/git/ragno/classicalarchives/cma/crawler.py'>"
      ]
     },
     "execution_count": 3,
     "metadata": {},
     "output_type": "execute_result"
    }
   ],
   "source": [
    "imp.reload(session)\n",
    "imp.reload(crawler)"
   ]
  },
  {
   "cell_type": "code",
   "execution_count": 4,
   "metadata": {},
   "outputs": [],
   "source": [
    "sess = session.Session('chrome')"
   ]
  },
  {
   "cell_type": "code",
   "execution_count": null,
   "metadata": {},
   "outputs": [],
   "source": []
  },
  {
   "cell_type": "code",
   "execution_count": 45,
   "metadata": {},
   "outputs": [],
   "source": [
    "# sess.login('credential.json')"
   ]
  },
  {
   "cell_type": "code",
   "execution_count": 7,
   "metadata": {},
   "outputs": [],
   "source": [
    "# replace sess with self\n",
    "# replace crawl_ with crawl.\n",
    "\n",
    "def expand_work(work):\n",
    "    toggle = work.find_element_by_xpath('..').get_attribute('class')\n",
    "    if toggle == 'toggle':\n",
    "        work.click()\n",
    "        time.sleep(1)\n",
    "\n",
    "        \n",
    "def collapse_work(work):\n",
    "    toggle = work.find_element_by_xpath('..').get_attribute('class')\n",
    "    if toggle == 'toggle expanded':\n",
    "        work.click()\n",
    "        time.sleep(1)\n",
    "\n",
    "        \n",
    "def get_work_title_nmidi(work):\n",
    "    title = work.text\n",
    "    nmidi = int(work.find_element_by_xpath('../div[@class=\"infolabel\"]').text.split()[0])\n",
    "    return title, nmidi\n",
    "\n",
    "\n",
    "def get_work_page_sect(work):\n",
    "    page_sect = work.find_element_by_xpath('../div/div[1]')\n",
    "    return page_sect\n",
    "\n",
    "\n",
    "def get_work_page_content(work):\n",
    "    page_content = work.find_element_by_xpath('../div/div[2]')\n",
    "    return page_content\n",
    "\n",
    "\n",
    "def goto_work_first_page(page_sect):\n",
    "    elem = page_sect.find_element_by_class_name('yui-pg-first')\n",
    "    if elem.tag_name == 'a':\n",
    "        elem.click()\n",
    "\n",
    "        \n",
    "def goto_work_last_page(page_sect):\n",
    "    elem = page_sect.find_element_by_class_name('yui-pg-last')\n",
    "    if elem.tag_name == 'a':\n",
    "        elem.click()\n",
    "        \n",
    "\n",
    "def goto_work_prev_page(page_sect):\n",
    "    elem = page_sect.find_element_by_class_name('yui-pg-previous')\n",
    "    if elem.tag_name == 'a':\n",
    "        elem.click()\n",
    "        return True\n",
    "    else:\n",
    "        return False\n",
    "        \n",
    "\n",
    "def goto_work_next_page(page_sect):\n",
    "    elem = page_sect.find_element_by_class_name('yui-pg-next')\n",
    "    if elem.tag_name == 'a':\n",
    "        elem.click()\n",
    "        return True\n",
    "    else:\n",
    "        return False        \n",
    "        \n",
    "        \n",
    "def get_work_current_page(page_sect):\n",
    "    elem = page_sect.find_element_by_class_name('yui-pg-current-page')\n",
    "    return int(elem.text)\n",
    "\n",
    "\n",
    "def get_work_num_page(page_sect):\n",
    "    goto_work_last_page(page_sect)\n",
    "    return get_work_current_page(page_sect)\n",
    "\n",
    "\n",
    "def goto_work_page_id(page_sect, page_id):\n",
    "    goto_work_first_page(page_sect)\n",
    "    index = 1\n",
    "    while index != page_id:\n",
    "        goto_work_next_page(page_sect)\n",
    "        index += 1\n",
    "        time.sleep(0.1)\n",
    "    \n",
    "        \n",
    "def get_page_contributer(page_content):\n",
    "    # contributor name, id, total_length, num_track\n",
    "    performance = page_content.find_element_by_class_name('performance')\n",
    "    contributor = performance.find_element_by_xpath('./div[@class=\"details\"]//a')\n",
    "    name = contributor.text\n",
    "    url = contributor.get_attribute('href')\n",
    "    length = performance.find_element_by_xpath('./div[@class=\"play\"]//div[@class=\"time\"]').text\n",
    "    num_track = int(performance.find_element_by_xpath('./div[@class=\"buy\"]//p').text.split()[0])\n",
    "    return name, url, length, num_track\n",
    "\n",
    "\n",
    "def find_page_all_tracks(page_content):\n",
    "    # each track has title, length, download_button\n",
    "    out = []\n",
    "    track_list = page_content.find_element_by_class_name('trackList')\n",
    "    title_prefix = ''\n",
    "    for tr_elem in page_content.find_elements_by_xpath('.//tr'):\n",
    "        td_elem_list = tr_elem.find_elements_by_tag_name('td')\n",
    "        if len(td_elem_list) == 0:\n",
    "            title_prefix = tr_elem.text + ' '\n",
    "            continue\n",
    "        title = ''\n",
    "        length = ''\n",
    "        down_button = None\n",
    "        for td in td_elem_list:\n",
    "            if td.get_attribute('class') == 'tlTitle':\n",
    "                title = title_prefix + td.text\n",
    "            elif td.get_attribute('class') == 'tlLen':\n",
    "                length = td.text\n",
    "            elif td.get_attribute('class') == 'tlAdd':\n",
    "                down_button = td.find_element_by_class_name('dl')\n",
    "        out.append([title, length, down_button])\n",
    "    return out\n",
    "        \n",
    "    \n",
    "def find_all_works(driver):\n",
    "    return driver.find_elements_by_xpath('//div[@id=\"wMidi\"]//a[starts-with(@id, \"work_\")]')\n",
    "\n",
    "\n",
    "def find_work_by_id(driver, work_id):\n",
    "    return driver.find_elements_by_xpath('//div[@id=\"wMidi\"]//a[starts-with(@id, \"' + work_id + '\")]')\n",
    "\n",
    "\n",
    "def get_work_id(work):\n",
    "    return work.get_attribute('id')\n",
    "    \n",
    "    \n",
    "def get_composer_all_works(driver, url_composer):\n",
    "    url_composer = 'https://www.classicalarchives.com/midi/composer/2113.html'\n",
    "    sess.open_url(url_composer)\n",
    "    \n",
    "\n",
    "#     for i, work in enumerate(find_all_works(driver)):\n",
    "    print(len(find_work_by_id(driver, 'work_2363')))\n",
    "    for i, work in enumerate(find_work_by_id(driver, 'work_2363')):\n",
    "        expand_work(work)\n",
    "        work_id = get_work_id(work)\n",
    "        title, num_midi = get_work_title_nmidi(work)\n",
    "        page_sect = get_work_page_sect(work)\n",
    "        num_page = get_work_num_page(page_sect)\n",
    "        print([work_id, title, num_midi, num_page])\n",
    "        \n",
    "        goto_work_page_id(page_sect, 14)\n",
    "#         goto_work_first_page(page_sect)\n",
    "        page_content = get_work_page_content(work)\n",
    "        name, url, length, num_track = get_page_contributer(page_content)\n",
    "        print([name, url, length, num_track])\n",
    "        \n",
    "        print(find_page_all_tracks(page_content))\n",
    "        if i == 10:\n",
    "            break\n",
    "    \n",
    "    "
   ]
  },
  {
   "cell_type": "code",
   "execution_count": 8,
   "metadata": {},
   "outputs": [
    {
     "name": "stdout",
     "output_type": "stream",
     "text": [
      "1\n",
      "['work_2363', 'Well-tempered Clavier, Book 1, BWV846-869', 143, 20]\n",
      "['Bunji Hisamori', 'https://www.classicalarchives.com/contributor/1000.html', '1:46:21', 24]\n",
      "[['Prelude and Fugue No.1 in C, BWV846', '3:18', <selenium.webdriver.remote.webelement.WebElement (session=\"d736b90ae221c700e8b5a4664fe650a9\", element=\"0.8576611770849529-45\")>], ['Prelude and Fugue No.2 in C-, BWV847', '3:12', <selenium.webdriver.remote.webelement.WebElement (session=\"d736b90ae221c700e8b5a4664fe650a9\", element=\"0.8576611770849529-52\")>], ['Prelude and Fugue No.3 in C#, BWV848', '3:26', <selenium.webdriver.remote.webelement.WebElement (session=\"d736b90ae221c700e8b5a4664fe650a9\", element=\"0.8576611770849529-59\")>], ['Prelude and Fugue No.4 in C#-, BWV849', '6:53', <selenium.webdriver.remote.webelement.WebElement (session=\"d736b90ae221c700e8b5a4664fe650a9\", element=\"0.8576611770849529-66\")>], ['Prelude and Fugue No.5 in D, BWV850', '2:38', <selenium.webdriver.remote.webelement.WebElement (session=\"d736b90ae221c700e8b5a4664fe650a9\", element=\"0.8576611770849529-73\")>], ['Prelude and Fugue No.6 in D-, BWV851', '3:33', <selenium.webdriver.remote.webelement.WebElement (session=\"d736b90ae221c700e8b5a4664fe650a9\", element=\"0.8576611770849529-80\")>], ['Prelude and Fugue No.7 in Eb, BWV852', '5:27', <selenium.webdriver.remote.webelement.WebElement (session=\"d736b90ae221c700e8b5a4664fe650a9\", element=\"0.8576611770849529-87\")>], ['Prelude and Fugue No.8 in Eb-/D#-, BWV853', '7:06', <selenium.webdriver.remote.webelement.WebElement (session=\"d736b90ae221c700e8b5a4664fe650a9\", element=\"0.8576611770849529-94\")>], ['Prelude and Fugue No.9 in E, BWV854', '2:56', <selenium.webdriver.remote.webelement.WebElement (session=\"d736b90ae221c700e8b5a4664fe650a9\", element=\"0.8576611770849529-101\")>], ['Prelude and Fugue No.10 in E-, BWV855', '2:46', <selenium.webdriver.remote.webelement.WebElement (session=\"d736b90ae221c700e8b5a4664fe650a9\", element=\"0.8576611770849529-108\")>], ['Prelude and Fugue No.11 in F, BWV856', '2:28', <selenium.webdriver.remote.webelement.WebElement (session=\"d736b90ae221c700e8b5a4664fe650a9\", element=\"0.8576611770849529-115\")>], ['Prelude and Fugue No.12 in F-, BWV857', '6:06', <selenium.webdriver.remote.webelement.WebElement (session=\"d736b90ae221c700e8b5a4664fe650a9\", element=\"0.8576611770849529-122\")>], ['Prelude and Fugue No.13 in F#, BWV858', '3:41', <selenium.webdriver.remote.webelement.WebElement (session=\"d736b90ae221c700e8b5a4664fe650a9\", element=\"0.8576611770849529-129\")>], ['Prelude and Fugue No.14 in F#-, BWV859', '3:50', <selenium.webdriver.remote.webelement.WebElement (session=\"d736b90ae221c700e8b5a4664fe650a9\", element=\"0.8576611770849529-136\")>], ['Prelude and Fugue No.15 in G, BWV860', '4:08', <selenium.webdriver.remote.webelement.WebElement (session=\"d736b90ae221c700e8b5a4664fe650a9\", element=\"0.8576611770849529-143\")>], ['Prelude and Fugue No.16 in G-, BWV861', '3:20', <selenium.webdriver.remote.webelement.WebElement (session=\"d736b90ae221c700e8b5a4664fe650a9\", element=\"0.8576611770849529-150\")>], ['Prelude and Fugue No.17 in Ab, BWV862', '3:54', <selenium.webdriver.remote.webelement.WebElement (session=\"d736b90ae221c700e8b5a4664fe650a9\", element=\"0.8576611770849529-157\")>], ['Prelude and Fugue No.18 in G#-, BWV863', '4:39', <selenium.webdriver.remote.webelement.WebElement (session=\"d736b90ae221c700e8b5a4664fe650a9\", element=\"0.8576611770849529-164\")>], ['Prelude and Fugue No.19 in A, BWV864', '4:58', <selenium.webdriver.remote.webelement.WebElement (session=\"d736b90ae221c700e8b5a4664fe650a9\", element=\"0.8576611770849529-171\")>], ['Prelude and Fugue No.20 in A-, BWV865', '6:26', <selenium.webdriver.remote.webelement.WebElement (session=\"d736b90ae221c700e8b5a4664fe650a9\", element=\"0.8576611770849529-178\")>], ['Prelude and Fugue No.21 in Bb, BWV866', '2:21', <selenium.webdriver.remote.webelement.WebElement (session=\"d736b90ae221c700e8b5a4664fe650a9\", element=\"0.8576611770849529-185\")>], ['Prelude and Fugue No.22 in Bb-, BWV867', '4:49', <selenium.webdriver.remote.webelement.WebElement (session=\"d736b90ae221c700e8b5a4664fe650a9\", element=\"0.8576611770849529-192\")>], ['Prelude and Fugue No.23 in B, BWV868', '3:23', <selenium.webdriver.remote.webelement.WebElement (session=\"d736b90ae221c700e8b5a4664fe650a9\", element=\"0.8576611770849529-199\")>], ['Prelude and Fugue No.24 in B-, BWV869', '11:03', <selenium.webdriver.remote.webelement.WebElement (session=\"d736b90ae221c700e8b5a4664fe650a9\", element=\"0.8576611770849529-206\")>]]\n"
     ]
    }
   ],
   "source": [
    "get_composer_all_works(sess.driver, '')"
   ]
  },
  {
   "cell_type": "code",
   "execution_count": null,
   "metadata": {},
   "outputs": [],
   "source": [
    "sess.close()"
   ]
  },
  {
   "cell_type": "code",
   "execution_count": null,
   "metadata": {},
   "outputs": [],
   "source": []
  }
 ],
 "metadata": {
  "kernelspec": {
   "display_name": "Python 3",
   "language": "python",
   "name": "python3"
  },
  "language_info": {
   "codemirror_mode": {
    "name": "ipython",
    "version": 3
   },
   "file_extension": ".py",
   "mimetype": "text/x-python",
   "name": "python",
   "nbconvert_exporter": "python",
   "pygments_lexer": "ipython3",
   "version": "3.5.1"
  }
 },
 "nbformat": 4,
 "nbformat_minor": 2
}
