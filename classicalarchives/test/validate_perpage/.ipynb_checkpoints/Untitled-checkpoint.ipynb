{
 "cells": [
  {
   "cell_type": "markdown",
   "metadata": {},
   "source": [
    "tips:\n",
    "\n",
    "tables:\n",
    "composer: {id, name, year, country, num_midi, num_work}\n",
    "work: {id, grp_id, name, num_midi, num_page, }\n",
    "\n",
    "\n",
    "ids:\n",
    "- composer_id, work_id and contributor_id (page number) are fixed\n",
    "- group_id are not fixed\n",
    "- composer > work > contributor > track (= midi_id unique to avoid redownload) \n",
    "- place order > download > clear history > repeat\n",
    "\n",
    "xpath\n",
    ".// anywhere under current node\n",
    "//xxx//yyy somewhere under xxx and then under yyy\n",
    ".//li[@class=\"toggle\"]  select li tag with class=\"toggle\"\n",
    ".//li[contains(@id, \"work_\")]  select li tag with id containing \"work_\"\n",
    ".//li[starts-with(@id, \"work_\")]   select li tag with id starting with \"work_\"\n",
    "\n",
    "css_selector\n",
    "li[@id*=work]   select li tag with id containing work \n",
    "li[@id^=work]   select li tag with id starting with work \n",
    "li[@id$=work]   select li tag with id ending with work\n",
    "\n",
    "https://stackoverflow.com/questions/34315533/can-i-find-an-element-using-regex-with-python-and-selenium\n"
   ]
  },
  {
   "cell_type": "markdown",
   "metadata": {},
   "source": [
    "# "
   ]
  },
  {
   "cell_type": "code",
   "execution_count": 345,
   "metadata": {},
   "outputs": [],
   "source": [
    "import requests\n",
    "from selenium import webdriver\n",
    "import time\n",
    "from selenium.common.exceptions import NoSuchElementException\n",
    "import cma"
   ]
  },
  {
   "cell_type": "code",
   "execution_count": 352,
   "metadata": {},
   "outputs": [],
   "source": [
    "driver.implicitly_wait(5)"
   ]
  },
  {
   "cell_type": "code",
   "execution_count": 410,
   "metadata": {},
   "outputs": [],
   "source": [
    "USERNAME = 'joeyfuerimmer@gmail.com'\n",
    "PASSWORD = '0.567359Zy'"
   ]
  },
  {
   "cell_type": "code",
   "execution_count": 328,
   "metadata": {},
   "outputs": [],
   "source": [
    "def login_cma(driver, username, password):\n",
    "    login_url = cma.domain_url + '/secure/login.html'\n",
    "    driver.get(login_url)\n",
    "    login_username = driver.find_element_by_id('email')\n",
    "    login_username.send_keys(username)\n",
    "    login_password = driver.find_element_by_id('password')\n",
    "    login_password.send_keys(password)\n",
    "    login_button = driver.find_element_by_xpath('//*[@id=\"signinbtn\"]//button')\n",
    "    login_button.click()\n",
    "    print('> successful login as {}'.format(username))"
   ]
  },
  {
   "cell_type": "code",
   "execution_count": 329,
   "metadata": {},
   "outputs": [],
   "source": [
    "def logout_cma(driver, username):\n",
    "    logout_url = cma.domain_url + '/secure/logout.html'\n",
    "    driver.get(logout_url)\n",
    "    print('> successful logout as {}'.format(username))"
   ]
  },
  {
   "cell_type": "code",
   "execution_count": 330,
   "metadata": {},
   "outputs": [],
   "source": [
    "def is_login(driver, username):\n",
    "    account_url = cma.domain_url + '/secure/youraccount.html'\n",
    "    driver.get(account_url)\n",
    "    try:\n",
    "        email = driver.find_element_by_xpath('//*[@id=\"dispEmail\"]').text.strip()\n",
    "        if username in email:\n",
    "            print('> currently login as {}'.format(username))\n",
    "            return True\n",
    "        else:\n",
    "            print('> currently login as another user: ' + email + \n",
    "                  ' (try logout and login again)')\n",
    "            return False\n",
    "    except NoSuchElementException:\n",
    "        print('> currently not login')\n",
    "        return False        "
   ]
  },
  {
   "cell_type": "code",
   "execution_count": 394,
   "metadata": {},
   "outputs": [],
   "source": [
    "def download_midi(driver, out_prefix='', clear_history=True):\n",
    "    \n",
    "    if out_prefix:\n",
    "        out_prefix += '.'\n",
    "        \n",
    "    download_url = cma.domain_url + '/secure/downloads.html'\n",
    "    driver.get(download_url)\n",
    "    \n",
    "    # find all files to download at this page \n",
    "    download_list = driver.find_elements_by_xpath('//td[@class=\"dlButton\"]//a[@href]')\n",
    "    if len(download_list) == 0:\n",
    "        print('> Nothing to download, quit.')\n",
    "        return \n",
    "    \n",
    "    # get download url and start download\n",
    "    for download in download_list:\n",
    "        download_url = download.get_property('href')\n",
    "        download_fname = out_prefix + download_url.split('/')[-1]\n",
    "        print('> downloading {}\\n> to local file {}'.format(download_url, download_fname))\n",
    "        with open(download_fname,'wb+') as f:\n",
    "            f.write(requests.get(download_url).content)\n",
    "            \n",
    "    # clear all downloaded tracks \n",
    "    if clear_history:\n",
    "        \n",
    "        # clear history\n",
    "        clear_button = driver.find_element_by_xpath('//span[@id=\"clearBtnBot\"]//button[@type=\"button\"]')\n",
    "        clear_button.click()\n",
    "        \n",
    "        # confirm\n",
    "        confirm_box = driver.find_element_by_id('ConfDBox')\n",
    "        # yui-gen0-button\n",
    "        for confirm_button in confirm_box.find_elements_by_tag_name('button'):\n",
    "            if confirm_button.text == 'Yes':\n",
    "                print('> Clearing history of downloaded files.')\n",
    "                confirm_button.click()        "
   ]
  },
  {
   "cell_type": "markdown",
   "metadata": {},
   "source": [
    "# Common tasks"
   ]
  },
  {
   "cell_type": "code",
   "execution_count": 392,
   "metadata": {},
   "outputs": [
    {
     "name": "stdout",
     "output_type": "stream",
     "text": [
      "> currently not login\n"
     ]
    },
    {
     "data": {
      "text/plain": [
       "False"
      ]
     },
     "execution_count": 392,
     "metadata": {},
     "output_type": "execute_result"
    }
   ],
   "source": [
    "is_login(driver, 'joeyfuerimmer@gmail.com')"
   ]
  },
  {
   "cell_type": "code",
   "execution_count": 360,
   "metadata": {},
   "outputs": [
    {
     "name": "stdout",
     "output_type": "stream",
     "text": [
      "> successful login as joeyfuerimmer@gmail.com\n"
     ]
    }
   ],
   "source": [
    "login_cma(driver, 'joeyfuerimmer@gmail.com', '0.567359Zy')"
   ]
  },
  {
   "cell_type": "code",
   "execution_count": 320,
   "metadata": {
    "collapsed": true
   },
   "outputs": [
    {
     "name": "stdout",
     "output_type": "stream",
     "text": [
      "> successful logout as joeyfuerimmer@gmail.com\n"
     ]
    }
   ],
   "source": [
    "logout_cma(driver, 'joeyfuerimmer@gmail.com')"
   ]
  },
  {
   "cell_type": "code",
   "execution_count": 391,
   "metadata": {},
   "outputs": [
    {
     "name": "stdout",
     "output_type": "stream",
     "text": [
      "> Nothing to download, quit.\n"
     ]
    }
   ],
   "source": [
    "download_midi(driver, '.', 'temp.prefix', clear_history=True)"
   ]
  },
  {
   "cell_type": "code",
   "execution_count": 393,
   "metadata": {},
   "outputs": [
    {
     "data": {
      "text/plain": [
       "True"
      ]
     },
     "execution_count": 393,
     "metadata": {},
     "output_type": "execute_result"
    }
   ],
   "source": [
    "driver.save_screenshot('foo.png')"
   ]
  },
  {
   "cell_type": "markdown",
   "metadata": {},
   "source": [
    "# Developing section "
   ]
  },
  {
   "cell_type": "code",
   "execution_count": 409,
   "metadata": {},
   "outputs": [],
   "source": [
    "def get_composer_works(driver, driver2, url, download_set):\n",
    "    t1 = time.time()\n",
    "    \n",
    "    # not login version\n",
    "    driver.get(url)\n",
    "    \n",
    "    # composer id\n",
    "    composer_id = url.split('/')[-1].split('.')[0]\n",
    "    \n",
    "    # get comopser name\n",
    "    composer_info = driver.find_element_by_xpath('//h1[@class=\"composer\"]').text\n",
    "        \n",
    "    # number of midi\n",
    "    wMidi = driver.find_element_by_xpath('//div[@id=\"wMidi\"]')\n",
    "    total_num_midi = int(wMidi.find_element_by_xpath('.//li[@class=\"counts\"]').text.split()[1].replace(',',''))\n",
    "    \n",
    "    print('> composer_id={} composer_info={} num_midi={}'\n",
    "          .format(composer_id, composer_info, total_num_midi))\n",
    "\n",
    "    # loop through all works (collect work_id, group_id, work_name, num_midi)\n",
    "    for work in wMidi.find_elements_by_xpath('.//li[starts-with(@id, \"grp_\")]')[:3]:\n",
    "        \n",
    "        group_id = work.get_attribute('id')\n",
    "        num_midi = int(work.find_element_by_xpath('.//div[@class=\"infolabel\"]').text.split()[0])\n",
    "        work_toggle = work.find_element_by_xpath('.//a[starts-with(@id, \"work_\")]')\n",
    "        work_name = work_toggle.text\n",
    "        work_id = work_toggle.get_attribute('id').replace('work_','')\n",
    "        \n",
    "        print('>> work_id={} group_id={} work_name={} num_midi={}'\n",
    "              .format(work_id, group_id, work_name, num_midi))\n",
    "        \n",
    "        # keep the group \"toggle expanded\"\n",
    "        if (work.get_attribute('class') == 'toggle'):\n",
    "            work_toggle.click()\n",
    "        \n",
    "        # staring from page 1\n",
    "        first_page = work.find_element_by_xpath('.//*[@class=\"yui-pg-first\"]')\n",
    "        first_page.click()\n",
    "                \n",
    "        # go through all pages\n",
    "        page_items = {}\n",
    "        while True:\n",
    "            page_id = int(work.find_element_by_xpath('.//span[@class=\"yui-pg-current-page yui-pg-page\"]').text)\n",
    "            \n",
    "            # get contributor\n",
    "            contributor = work.find_element_by_xpath('.//div[@class=\"details\"]//a')\n",
    "            contributor_url = contributor.get_attribute('href')\n",
    "            contributor_id = contributor_url.split('/')[-1].split('.')[0]\n",
    "            contributor_name = contributor.text\n",
    "            num_track = work.find_element_by_xpath('.//div[@class=\"buy\"]//p').text\n",
    "            num_track = int(num_track.split()[0])\n",
    "            \n",
    "            # get track list\n",
    "            track_list = work.find_elements_by_xpath('.//table[@class=\"trackList\"]//tr')\n",
    "            track_prefix = ''\n",
    "            track_id = 0\n",
    "            for track in track_list:\n",
    "                # faster way to check if the first tag is <th>\n",
    "                tmp_html = track.get_attribute('innerHTML').strip()\n",
    "                if tmp_html.startswith('<th '):\n",
    "                    track_prefix = track.find_element_by_xpath('.//th').text\n",
    "                    continue\n",
    "                # a formal track with download button\n",
    "                track_id += 1\n",
    "                track_name = (track_prefix + \" \" + \n",
    "                              track.find_element_by_xpath('.//td[@class=\"tlTitle\"]').text)\n",
    "                track_length = track.find_element_by_xpath('.//td[@class=\"tlLen\"]').text\n",
    "\n",
    "                download_id = '{}.{}.{}.{}.{}'.format(composer_id, work_id, contributor_id, page_id, track_id)\n",
    "\n",
    "                track_download = track.find_element_by_xpath('.//td[@class=\"tlAdd\"]//a[@class=\"dl dlMIDI1\"]')\n",
    "                # track_download.click()\n",
    "                \n",
    "\n",
    "                # go to download midi\n",
    "#                 download_midi()\n",
    "                \n",
    "                print('>>> contributor_id={} contributor_name={} num_track={}'\n",
    "                      .format(contributor_id, contributor_name, num_track))\n",
    "                print(composer_id, work_id, contributor_id, track_id, \n",
    "                     track_name, track_length)\n",
    "        \n",
    "            # check if reaching the last page\n",
    "            next_page = work.find_element_by_xpath('.//*[@class=\"yui-pg-next\"]')\n",
    "            if not next_page.get_attribute('href'):\n",
    "                break\n",
    "            # turn the page\n",
    "            next_page.click()\n",
    "            \n",
    "                \n",
    "    t2 = time.time()\n",
    "    print('> done in {} seconds'.format(t2-t1))"
   ]
  },
  {
   "cell_type": "markdown",
   "metadata": {},
   "source": [
    "# Testing section "
   ]
  },
  {
   "cell_type": "code",
   "execution_count": 411,
   "metadata": {},
   "outputs": [],
   "source": [
    "driver_browse = webdriver.PhantomJS()\n",
    "driver_browse.implicitly_wait(5)\n",
    "driver_down = webdriver.PhantomJS()\n",
    "driver_down.implicitly_wait(5)"
   ]
  },
  {
   "cell_type": "code",
   "execution_count": 425,
   "metadata": {},
   "outputs": [
    {
     "name": "stdout",
     "output_type": "stream",
     "text": [
      "> successful login as joeyfuerimmer@gmail.com\n"
     ]
    }
   ],
   "source": [
    "login_cma(driver_browse, USERNAME, PASSWORD)"
   ]
  },
  {
   "cell_type": "code",
   "execution_count": 427,
   "metadata": {},
   "outputs": [
    {
     "name": "stdout",
     "output_type": "stream",
     "text": [
      "> successful login as joeyfuerimmer@gmail.com\n"
     ]
    }
   ],
   "source": [
    "login_cma(driver_down, USERNAME, PASSWORD)"
   ]
  },
  {
   "cell_type": "code",
   "execution_count": 429,
   "metadata": {},
   "outputs": [
    {
     "name": "stdout",
     "output_type": "stream",
     "text": [
      "> currently not login\n"
     ]
    },
    {
     "data": {
      "text/plain": [
       "False"
      ]
     },
     "execution_count": 429,
     "metadata": {},
     "output_type": "execute_result"
    }
   ],
   "source": [
    "is_login(driver_browse, USERNAME)"
   ]
  },
  {
   "cell_type": "code",
   "execution_count": 430,
   "metadata": {},
   "outputs": [
    {
     "name": "stdout",
     "output_type": "stream",
     "text": [
      "> currently not login\n"
     ]
    },
    {
     "data": {
      "text/plain": [
       "False"
      ]
     },
     "execution_count": 430,
     "metadata": {},
     "output_type": "execute_result"
    }
   ],
   "source": [
    "is_login(driver_down, USERNAME)"
   ]
  },
  {
   "cell_type": "code",
   "execution_count": 432,
   "metadata": {},
   "outputs": [
    {
     "data": {
      "text/plain": [
       "'https://www.classicalarchives.com/secure/login.html'"
      ]
     },
     "execution_count": 432,
     "metadata": {},
     "output_type": "execute_result"
    }
   ],
   "source": [
    "driver_down.current_url"
   ]
  },
  {
   "cell_type": "code",
   "execution_count": 433,
   "metadata": {},
   "outputs": [],
   "source": [
    "driver_down.get('https://www.classicalarchives.com/midi/composer/2156.html')"
   ]
  },
  {
   "cell_type": "code",
   "execution_count": 434,
   "metadata": {},
   "outputs": [],
   "source": [
    "driver_browse.get('https://www.classicalarchives.com/midi/composer/156.html')"
   ]
  },
  {
   "cell_type": "code",
   "execution_count": 435,
   "metadata": {},
   "outputs": [
    {
     "data": {
      "text/plain": [
       "'https://www.classicalarchives.com/midi/composer/2156.html'"
      ]
     },
     "execution_count": 435,
     "metadata": {},
     "output_type": "execute_result"
    }
   ],
   "source": [
    "driver_down.current_url"
   ]
  },
  {
   "cell_type": "code",
   "execution_count": 436,
   "metadata": {},
   "outputs": [
    {
     "data": {
      "text/plain": [
       "'https://www.classicalarchives.com/midi/composer/156.html'"
      ]
     },
     "execution_count": 436,
     "metadata": {},
     "output_type": "execute_result"
    }
   ],
   "source": [
    "driver_browse.current_url"
   ]
  },
  {
   "cell_type": "code",
   "execution_count": 408,
   "metadata": {},
   "outputs": [
    {
     "name": "stdout",
     "output_type": "stream",
     "text": [
      "> composer_id=2156 composer_info=Ludwig van Beethoven (1770-1827); DEU num_midi=773\n",
      ">> work_id=3911 group_id=grp_na1mare6 work_name=Piano Sonata No.1 in F-, Op.2, No.1 num_midi=6\n",
      ">>> contributor_id=1114 contributor_name=Nikos Markoyiannakis num_track=4\n",
      "2156 3911 1114 1  1.Allegro 5:19\n",
      ">>> contributor_id=1114 contributor_name=Nikos Markoyiannakis num_track=4\n",
      "2156 3911 1114 2  2.Adagio 4:33\n",
      ">>> contributor_id=1114 contributor_name=Nikos Markoyiannakis num_track=4\n",
      "2156 3911 1114 3  3.Menuetto: Allegro 3:28\n",
      ">>> contributor_id=1114 contributor_name=Nikos Markoyiannakis num_track=4\n",
      "2156 3911 1114 4  4.Prestissimo 6:35\n",
      ">>> contributor_id=1000 contributor_name=Bunji Hisamori num_track=1\n",
      "2156 3911 1000 1  Piano Sonata No.1 in F-, Op.2, No.1 16:38\n",
      ">>> contributor_id=1443 contributor_name=Faren Raborn num_track=1\n",
      "2156 3911 1443 1  1.Allegro 3:53\n",
      ">> work_id=3917 group_id=grp_jqxgbhxo work_name=Piano Sonata No.2 in A, Op.2, No.2 num_midi=2\n",
      ">>> contributor_id=184 contributor_name=Zakaria Boutami num_track=1\n",
      "2156 3917 184 1  Piano Sonata No.2 in A, Op.2, No.2 ((violin and piano version)) 22:50\n",
      ">>> contributor_id=1000 contributor_name=Bunji Hisamori num_track=1\n",
      "2156 3917 1000 1  Piano Sonata No.2 in A, Op.2, No.2 22:55\n",
      ">> work_id=3918 group_id=grp_a0ggeoz5 work_name=Piano Sonata No.3 in C, Op.2, No.3 num_midi=1\n",
      ">>> contributor_id=1000 contributor_name=Bunji Hisamori num_track=1\n",
      "2156 3918 1000 1  Piano Sonata No.3 in C, Op.2, No.3 28:05\n",
      "> done in 5.749858140945435 seconds\n"
     ]
    }
   ],
   "source": [
    "get_composer_works(driver, 'https://www.classicalarchives.com/midi/composer/2156.html')"
   ]
  },
  {
   "cell_type": "code",
   "execution_count": 397,
   "metadata": {},
   "outputs": [],
   "source": [
    "wMidi = driver.find_element_by_xpath('//div[@id=\"wMidi\"]')"
   ]
  },
  {
   "cell_type": "code",
   "execution_count": 398,
   "metadata": {},
   "outputs": [
    {
     "data": {
      "text/plain": [
       "'MIDI: 2,318 midis'"
      ]
     },
     "execution_count": 398,
     "metadata": {},
     "output_type": "execute_result"
    }
   ],
   "source": [
    "wMidi.find_element_by_xpath('.//li[@class=\"counts\"]').text"
   ]
  },
  {
   "cell_type": "code",
   "execution_count": 357,
   "metadata": {},
   "outputs": [],
   "source": [
    "download_url = cma.domain_url + '/secure/downloads.html'\n",
    "driver.get(download_url)"
   ]
  },
  {
   "cell_type": "code",
   "execution_count": 356,
   "metadata": {},
   "outputs": [
    {
     "data": {
      "text/plain": [
       "0"
      ]
     },
     "execution_count": 356,
     "metadata": {},
     "output_type": "execute_result"
    }
   ],
   "source": [
    "download_list = driver.find_elements_by_xpath('.//td[@class=\"dlButton\"]//a[@href]')\n",
    "len(download_list)"
   ]
  },
  {
   "cell_type": "code",
   "execution_count": 350,
   "metadata": {},
   "outputs": [],
   "source": [
    "for dl in download_list:\n",
    "    print(dl.get_property('href'))"
   ]
  },
  {
   "cell_type": "code",
   "execution_count": 343,
   "metadata": {},
   "outputs": [],
   "source": [
    "track_url = 'https://www.classicalarchives.com/d/oJ15_kmJyD8TjjxAWa-ZC2csPCE5Xmp_uciZAnZSPLHqUwAT_9zpLweoIRfc3buOXynmgfUaKBFVeGvZ1zmpw_7og1_c9ul-jyT3uxHo-_eMCsczK6Jrlcq3KXRQO-Lizs_rd3qJGQH8HfSvVGlbrg/bVg-g53z0zzmfETYwpGFzw/bach565.mid'"
   ]
  },
  {
   "cell_type": "code",
   "execution_count": 346,
   "metadata": {},
   "outputs": [],
   "source": [
    "with open(track_url.split('/')[-1],'wb+') as f:\n",
    "    f.write(requests.get(track_url).content)    "
   ]
  },
  {
   "cell_type": "code",
   "execution_count": null,
   "metadata": {},
   "outputs": [],
   "source": [
    "        with open('/Users/ehco/Desktop/img/'+name+'.png','wb+') as f:\n",
    "            f.write(requests.get(img_url).content)"
   ]
  },
  {
   "cell_type": "code",
   "execution_count": 371,
   "metadata": {},
   "outputs": [],
   "source": [
    "clear_button = driver.find_element_by_xpath('//span[@id=\"clearBtnBot\"]//button[@type=\"button\"]')"
   ]
  },
  {
   "cell_type": "code",
   "execution_count": 372,
   "metadata": {},
   "outputs": [],
   "source": [
    "clear_button.click()"
   ]
  },
  {
   "cell_type": "code",
   "execution_count": 389,
   "metadata": {},
   "outputs": [
    {
     "data": {
      "text/plain": [
       "True"
      ]
     },
     "execution_count": 389,
     "metadata": {},
     "output_type": "execute_result"
    }
   ],
   "source": [
    "driver.save_screenshot('confirmdelete.png')"
   ]
  },
  {
   "cell_type": "code",
   "execution_count": 388,
   "metadata": {},
   "outputs": [],
   "source": [
    "# confirm_button = driver.find_element_by_xpath('//button[@id=\"yui-gen0-button\"]')\n",
    "# confirm_button = driver.find_element_by_xpath('//div[@id=\"ConfDBox_c\"]//button[@id=\"yui-yui-gen0-button-button\"]')\n",
    "confirm_box = driver.find_element_by_id('ConfDBox')\n",
    "# yui-gen0-button\n",
    "for btn in confirm_box.find_elements_by_tag_name('button'):\n",
    "    if btn.text == 'Yes':\n",
    "        btn.click()\n",
    "        break"
   ]
  },
  {
   "cell_type": "code",
   "execution_count": null,
   "metadata": {},
   "outputs": [],
   "source": []
  },
  {
   "cell_type": "code",
   "execution_count": null,
   "metadata": {},
   "outputs": [],
   "source": []
  },
  {
   "cell_type": "code",
   "execution_count": null,
   "metadata": {},
   "outputs": [],
   "source": []
  },
  {
   "cell_type": "code",
   "execution_count": null,
   "metadata": {},
   "outputs": [],
   "source": []
  },
  {
   "cell_type": "code",
   "execution_count": null,
   "metadata": {},
   "outputs": [],
   "source": []
  },
  {
   "cell_type": "code",
   "execution_count": null,
   "metadata": {},
   "outputs": [],
   "source": []
  },
  {
   "cell_type": "code",
   "execution_count": null,
   "metadata": {},
   "outputs": [],
   "source": []
  },
  {
   "cell_type": "code",
   "execution_count": null,
   "metadata": {},
   "outputs": [],
   "source": []
  },
  {
   "cell_type": "code",
   "execution_count": null,
   "metadata": {},
   "outputs": [],
   "source": []
  },
  {
   "cell_type": "code",
   "execution_count": 194,
   "metadata": {},
   "outputs": [],
   "source": []
  },
  {
   "cell_type": "code",
   "execution_count": 148,
   "metadata": {
    "collapsed": true
   },
   "outputs": [
    {
     "name": "stdout",
     "output_type": "stream",
     "text": [
      "grp_ea2w160t work_962 Cantata No.1: Wie schön leuchtet der Morgenstern (Annunciation), BWV1 7\n",
      "grp_t2vmh7bw work_970 Cantata No.2: Ach Gott vom Himmel sieh' darein (2nd Sunday after Trinity), BWV2 7\n",
      "grp_9ielhefy work_978 Cantata No.3: Ach Gott, wie manches Herzeleid (2nd Sunday after Epiphany), BWV3 6\n",
      "grp_fhexu0p5 work_987 Cantata No.4: Christ lag in Todesbanden (Easter Sunday), BWV4 10\n",
      "grp_10g7gs61 work_998 Cantata No.5: Wo soll ich fliehen hin (19th Sunday after Trinity), BWV5 8\n",
      "grp_88x0km3u work_1008 Cantata No.6: Blieb' bei uns, denn es will Abend warden (Easter Monday), BWV6 7\n",
      "grp_x3mkqcfx work_1017 Cantata No.8: Liebster Gott, wann werd' ich sterben (16th Sunday after Trinity), BWV8 10\n",
      "grp_cegro5n1 work_1027 Cantata No.9: Es ist das Heil uns kommen her (6th Sunday after Trinity), BWV9 8\n",
      "grp_xe1ku48p work_1036 Cantata No.10: Meine Seel' erhebet den Herren! (Visitation), BWV10 8\n",
      "grp_vn5m7zot work_1045 Cantata No.11: Lobet Gott in seinen Reichen (Ascension), BWV11 10\n",
      "> done in 14.912966012954712 seconds\n"
     ]
    }
   ],
   "source": [
    "get_composer_works(url)"
   ]
  },
  {
   "cell_type": "code",
   "execution_count": 255,
   "metadata": {},
   "outputs": [],
   "source": [
    "url = 'https://www.classicalarchives.com/midi/composer/2113.html'"
   ]
  },
  {
   "cell_type": "code",
   "execution_count": 256,
   "metadata": {},
   "outputs": [],
   "source": [
    "driver = webdriver.PhantomJS()"
   ]
  },
  {
   "cell_type": "code",
   "execution_count": 257,
   "metadata": {},
   "outputs": [],
   "source": [
    "driver.implicitly_wait(5) # seconds"
   ]
  },
  {
   "cell_type": "code",
   "execution_count": 258,
   "metadata": {},
   "outputs": [],
   "source": [
    "driver.get(url)"
   ]
  },
  {
   "cell_type": "code",
   "execution_count": 276,
   "metadata": {},
   "outputs": [
    {
     "data": {
      "text/plain": [
       "'Johann Sebastian Bach (1685-1750); DEU'"
      ]
     },
     "execution_count": 276,
     "metadata": {},
     "output_type": "execute_result"
    }
   ],
   "source": [
    "# a = driver.find_element_by_xpath('//*[@id=\"content\"]/div/div[3]/div[1]/div[1]/h1')\n",
    "driver.find_element_by_xpath('//h1[@class=\"composer\"]').text"
   ]
  },
  {
   "cell_type": "code",
   "execution_count": 260,
   "metadata": {},
   "outputs": [],
   "source": [
    "wMidi = driver.find_element_by_xpath('//div[@id=\"wMidi\"]')"
   ]
  },
  {
   "cell_type": "code",
   "execution_count": 261,
   "metadata": {},
   "outputs": [
    {
     "data": {
      "text/plain": [
       "2318"
      ]
     },
     "execution_count": 261,
     "metadata": {},
     "output_type": "execute_result"
    }
   ],
   "source": [
    "int(wMidi.find_element_by_xpath('.//li[@class=\"counts\"]')\n",
    "    .text.split()[1].replace(',',''))"
   ]
  },
  {
   "cell_type": "code",
   "execution_count": 266,
   "metadata": {},
   "outputs": [
    {
     "data": {
      "text/plain": [
       "611"
      ]
     },
     "execution_count": 266,
     "metadata": {},
     "output_type": "execute_result"
    }
   ],
   "source": [
    "len(wMidi.find_elements_by_css_selector('li[id^=\"grp_\"]'))"
   ]
  },
  {
   "cell_type": "code",
   "execution_count": 277,
   "metadata": {},
   "outputs": [
    {
     "name": "stdout",
     "output_type": "stream",
     "text": [
      "1 https://www.classicalarchives.com/contributor/1844.html Joseph A. Turner 1844 1\n",
      "1  Prelude and Fugue No.2 in C-, BWV847 2:59\n",
      "2 https://www.classicalarchives.com/contributor/872.html James Karageanes 872 1\n",
      "1  Prelude and Fugue No.5 in D, BWV850 3:01\n",
      "3 https://www.classicalarchives.com/contributor/374.html Malcolm Dale 374 1\n",
      "1 Prelude and Fugue No.3 in C#, BWV848 2.Fugue 2:08\n",
      "4 https://www.classicalarchives.com/contributor/938.html Matjaz Kozelj 938 1\n",
      "1  Well-tempered Clavier, Book 1, BWV846-869 2:14:58\n",
      "5 https://www.classicalarchives.com/contributor/598.html Joseph A. Gangi 598 24\n",
      "1  Prelude and Fugue No.1 in C, BWV846 ((arr. wind ensembles)) 3:35\n",
      "2  Prelude and Fugue No.2 in C-, BWV847 ((arr. wind ensembles)) 3:04\n",
      "3  Prelude and Fugue No.3 in C#, BWV848 ((arr. wind ensembles)) 5:11\n",
      "4  Prelude and Fugue No.4 in C#-, BWV849 ((arr. wind ensembles)) 5:35\n",
      "5  Prelude and Fugue No.5 in D, BWV850 ((arr. wind ensembles)) 3:51\n",
      "6  Prelude and Fugue No.6 in D-, BWV851 ((arr. wind ensembles)) 4:11\n",
      "7  Prelude and Fugue No.7 in Eb, BWV852 ((arr. wind ensembles)) 4:50\n",
      "8  Prelude and Fugue No.8 in Eb-/D#-, BWV853 ((arr. wind ensembles)) 6:06\n",
      "9  Prelude and Fugue No.9 in E, BWV854 ((arr. wind ensembles)) 2:39\n",
      "10  Prelude and Fugue No.10 in E-, BWV855 ((arr. wind ensembles)) 3:04\n",
      "11  Prelude and Fugue No.11 in F, BWV856 ((arr. wind ensembles)) 2:28\n",
      "12  Prelude and Fugue No.12 in F-, BWV857 ((arr. wind ensembles)) 4:22\n",
      "13  Prelude and Fugue No.13 in F#, BWV858 ((arr. wind ensembles)) 3:40\n",
      "14  Prelude and Fugue No.14 in F#-, BWV859 ((arr. wind ensembles)) 4:13\n",
      "15  Prelude and Fugue No.15 in G, BWV860 ((arr. wind ensembles)) 4:13\n",
      "16  Prelude and Fugue No.16 in G-, BWV861 ((arr. wind ensembles)) 2:29\n",
      "17  Prelude and Fugue No.17 in Ab, BWV862 ((arr. wind ensembles)) 3:29\n",
      "18  Prelude and Fugue No.18 in G#-, BWV863 ((arr. wind ensembles)) 4:15\n",
      "19  Prelude and Fugue No.19 in A, BWV864 ((arr. wind ensembles)) 4:19\n",
      "20  Prelude and Fugue No.20 in A-, BWV865 ((arr. wind ensembles)) 4:50\n",
      "21  Prelude and Fugue No.21 in Bb, BWV866 ((arr. wind ensembles)) 3:23\n",
      "22  Prelude and Fugue No.22 in Bb-, BWV867 ((arr. wind ensembles)) 3:34\n",
      "23  Prelude and Fugue No.23 in B, BWV868 ((arr. wind ensembles)) 2:43\n",
      "24  Prelude and Fugue No.24 in B-, BWV869 ((arr. wind ensembles)) 12:27\n",
      "6 https://www.classicalarchives.com/contributor/1775.html Tran Duc Tai 1775 1\n",
      "1 Prelude and Fugue No.3 in C#, BWV848 2.Fugue ((2 guit. arr.)) 2:44\n",
      "7 https://www.classicalarchives.com/contributor/1860.html César Vallejo López 1860 1\n",
      "1 Prelude and Fugue No.1 in C, BWV846 2.Fugue 1:29\n",
      "8 https://www.classicalarchives.com/contributor/21729.html anonymous contributor 21729 3\n",
      "1 Prelude and Fugue No.11 in F, BWV856 1.Prelude 0:54\n",
      "2 Prelude and Fugue No.14 in F#-, BWV859 1.Prelude 1:03\n",
      "3 Prelude and Fugue No.15 in G, BWV860 1.Prelude 0:48\n",
      "9 https://www.classicalarchives.com/contributor/1139.html Tony D. Matthews 1139 1\n",
      "1 Prelude and Fugue No.1 in C, BWV846 1.Prelude 1:51\n",
      "10 https://www.classicalarchives.com/contributor/687.html Bertrand R. Guillaud 687 1\n",
      "1 Prelude and Fugue No.1 in C, BWV846 1.Prelude 2:22\n",
      "11 https://www.classicalarchives.com/contributor/725.html J. Harris 725 1\n",
      "1 Prelude and Fugue No.4 in C#-, BWV849 2.Fugue ((tr. in C- for brass)) 3:13\n",
      "12 https://www.classicalarchives.com/contributor/267.html Alfonso Cascone 267 2\n",
      "1 Prelude and Fugue No.5 in D, BWV850 1.Prelude 1:07\n",
      "2 Prelude and Fugue No.15 in G, BWV860 1.Prelude 0:44\n",
      "13 https://www.classicalarchives.com/contributor/1178.html Malcolm Messiter 1178 2\n",
      "1 Prelude and Fugue No.2 in C-, BWV847 1.Prelude 1:17\n",
      "2 Prelude and Fugue No.3 in C#, BWV848 1.Prelude 1:10\n",
      "14 https://www.classicalarchives.com/contributor/1000.html Bunji Hisamori 1000 24\n",
      "1  Prelude and Fugue No.1 in C, BWV846 3:18\n",
      "2  Prelude and Fugue No.2 in C-, BWV847 3:12\n",
      "3  Prelude and Fugue No.3 in C#, BWV848 3:26\n",
      "4  Prelude and Fugue No.4 in C#-, BWV849 6:53\n",
      "5  Prelude and Fugue No.5 in D, BWV850 2:38\n",
      "6  Prelude and Fugue No.6 in D-, BWV851 3:33\n",
      "7  Prelude and Fugue No.7 in Eb, BWV852 5:27\n",
      "8  Prelude and Fugue No.8 in Eb-/D#-, BWV853 7:06\n",
      "9  Prelude and Fugue No.9 in E, BWV854 2:56\n",
      "10  Prelude and Fugue No.10 in E-, BWV855 2:46\n",
      "11  Prelude and Fugue No.11 in F, BWV856 2:28\n",
      "12  Prelude and Fugue No.12 in F-, BWV857 6:06\n",
      "13  Prelude and Fugue No.13 in F#, BWV858 3:41\n",
      "14  Prelude and Fugue No.14 in F#-, BWV859 3:50\n",
      "15  Prelude and Fugue No.15 in G, BWV860 4:08\n",
      "16  Prelude and Fugue No.16 in G-, BWV861 3:20\n",
      "17  Prelude and Fugue No.17 in Ab, BWV862 3:54\n",
      "18  Prelude and Fugue No.18 in G#-, BWV863 4:39\n",
      "19  Prelude and Fugue No.19 in A, BWV864 4:58\n",
      "20  Prelude and Fugue No.20 in A-, BWV865 6:26\n",
      "21  Prelude and Fugue No.21 in Bb, BWV866 2:21\n",
      "22  Prelude and Fugue No.22 in Bb-, BWV867 4:49\n",
      "23  Prelude and Fugue No.23 in B, BWV868 3:23\n",
      "24  Prelude and Fugue No.24 in B-, BWV869 11:03\n",
      "15 https://www.classicalarchives.com/contributor/1613.html Pierre R. Schwob 1613 3\n",
      "1 Prelude and Fugue No.2 in C-, BWV847 2.Fugue 1:34\n",
      "2 Prelude and Fugue No.6 in D-, BWV851 1.Prelude 1:32\n",
      "3 Prelude and Fugue No.10 in E-, BWV855 2.Fugue 1:22\n",
      "16 https://www.classicalarchives.com/contributor/1243.html Tito A. Munoz 1243 1\n",
      "1 Prelude and Fugue No.1 in C, BWV846 1.Prelude 1:36\n",
      "17 https://www.classicalarchives.com/contributor/896.html Sina Khorasani 896 2\n",
      "1 Prelude and Fugue No.1 in C, BWV846 1.Prelude 1:51\n",
      "2 Prelude and Fugue No.2 in C-, BWV847 1.Prelude 1:22\n",
      "18 https://www.classicalarchives.com/contributor/1483.html Martin Reyto 1483 48\n",
      "1 Prelude and Fugue No.1 in C, BWV846 1.Prelude 1:41\n",
      "2 Prelude and Fugue No.1 in C, BWV846 2.Fugue 1:42\n",
      "3 Prelude and Fugue No.2 in C-, BWV847 1.Prelude 1:34\n",
      "4 Prelude and Fugue No.2 in C-, BWV847 2.Fugue 1:34\n",
      "5 Prelude and Fugue No.3 in C#, BWV848 1.Prelude 1:52\n",
      "6 Prelude and Fugue No.3 in C#, BWV848 2.Fugue 2:12\n",
      "7 Prelude and Fugue No.4 in C#-, BWV849 1.Prelude 2:56\n",
      "8 Prelude and Fugue No.4 in C#-, BWV849 2.Fugue 4:28\n",
      "9 Prelude and Fugue No.5 in D, BWV850 1.Prelude 1:08\n",
      "10 Prelude and Fugue No.5 in D, BWV850 2.Fugue 1:22\n",
      "11 Prelude and Fugue No.6 in D-, BWV851 1.Prelude 1:22\n",
      "12 Prelude and Fugue No.6 in D-, BWV851 2.Fugue 1:50\n",
      "13 Prelude and Fugue No.7 in Eb, BWV852 1.Prelude 4:06\n",
      "14 Prelude and Fugue No.7 in Eb, BWV852 2.Fugue 1:27\n",
      "15 Prelude and Fugue No.8 in Eb-/D#-, BWV853 1.Prelude 2:46\n",
      "16 Prelude and Fugue No.8 in Eb-/D#-, BWV853 2.Fugue 4:52\n",
      "17 Prelude and Fugue No.9 in E, BWV854 1.Prelude 1:33\n",
      "18 Prelude and Fugue No.9 in E, BWV854 2.Fugue 0:59\n",
      "19 Prelude and Fugue No.10 in E-, BWV855 1.Prelude 1:56\n",
      "20 Prelude and Fugue No.10 in E-, BWV855 2.Fugue 1:00\n",
      "21 Prelude and Fugue No.11 in F, BWV856 1.Prelude 1:21\n",
      "22 Prelude and Fugue No.11 in F, BWV856 2.Fugue 1:22\n",
      "23 Prelude and Fugue No.12 in F-, BWV857 1.Prelude 1:44\n",
      "24 Prelude and Fugue No.12 in F-, BWV857 2.Fugue 3:29\n",
      "25 Prelude and Fugue No.13 in F#, BWV858 1.Prelude 1:13\n",
      "26 Prelude and Fugue No.13 in F#, BWV858 2.Fugue 1:53\n",
      "27 Prelude and Fugue No.14 in F#-, BWV859 1.Prelude 1:00\n",
      "28 Prelude and Fugue No.14 in F#-, BWV859 2.Fugue 2:23\n",
      "29 Prelude and Fugue No.15 in G, BWV860 1.Prelude 0:47\n",
      "30 Prelude and Fugue No.15 in G, BWV860 2.Fugue 3:25\n",
      "31 Prelude and Fugue No.16 in G-, BWV861 1.Prelude 1:32\n",
      "32 Prelude and Fugue No.16 in G-, BWV861 2.Fugue 1:44\n",
      "33 Prelude and Fugue No.17 in Ab, BWV862 1.Prelude 1:17\n",
      "34 Prelude and Fugue No.17 in Ab, BWV862 2.Fugue 2:21\n",
      "35 Prelude and Fugue No.18 in G#-, BWV863 1.Prelude 1:22\n",
      "36 Prelude and Fugue No.18 in G#-, BWV863 2.Fugue 2:58\n",
      "37 Prelude and Fugue No.19 in A, BWV864 1.Prelude 1:08\n",
      "38 Prelude and Fugue No.19 in A, BWV864 2.Fugue 2:26\n",
      "39 Prelude and Fugue No.20 in A-, BWV865 1.Prelude 1:14\n",
      "40 Prelude and Fugue No.20 in A-, BWV865 2.Fugue 5:01\n",
      "41 Prelude and Fugue No.21 in Bb, BWV866 1.Prelude 1:28\n",
      "42 Prelude and Fugue No.21 in Bb, BWV866 2.Fugue 1:28\n",
      "43 Prelude and Fugue No.22 in Bb-, BWV867 1.Prelude 2:41\n",
      "44 Prelude and Fugue No.22 in Bb-, BWV867 2.Fugue 2:55\n",
      "45 Prelude and Fugue No.23 in B, BWV868 1.Prelude 0:59\n",
      "46 Prelude and Fugue No.23 in B, BWV868 2.Fugue 2:19\n",
      "47 Prelude and Fugue No.24 in B-, BWV869 1.Prelude 5:16\n",
      "48 Prelude and Fugue No.24 in B-, BWV869 2.Fugue 5:13\n",
      "19 https://www.classicalarchives.com/contributor/1561.html John Sankey 1561 24\n",
      "1  Prelude and Fugue No.1 in C, BWV846 3:49\n",
      "2  Prelude and Fugue No.2 in C-, BWV847 3:35\n"
     ]
    },
    {
     "name": "stdout",
     "output_type": "stream",
     "text": [
      "3  Prelude and Fugue No.3 in C#, BWV848 4:24\n",
      "4  Prelude and Fugue No.4 in C#-, BWV849 6:30\n",
      "5  Prelude and Fugue No.5 in D, BWV850 3:04\n",
      "6  Prelude and Fugue No.6 in D-, BWV851 3:38\n",
      "7  Prelude and Fugue No.7 in Eb, BWV852 5:13\n",
      "8  Prelude and Fugue No.8 in Eb-/D#-, BWV853 6:20\n",
      "9  Prelude and Fugue No.9 in E, BWV854 2:57\n",
      "10  Prelude and Fugue No.10 in E-, BWV855 3:52\n",
      "11  Prelude and Fugue No.11 in F, BWV856 2:45\n",
      "12  Prelude and Fugue No.12 in F-, BWV857 5:58\n",
      "13  Prelude and Fugue No.13 in F#, BWV858 3:28\n",
      "14  Prelude and Fugue No.14 in F#-, BWV859 4:37\n",
      "15  Prelude and Fugue No.15 in G, BWV860 4:29\n",
      "16  Prelude and Fugue No.16 in G-, BWV861 4:17\n",
      "17  Prelude and Fugue No.17 in Ab, BWV862 4:04\n",
      "18  Prelude and Fugue No.18 in G#-, BWV863 4:41\n",
      "19  Prelude and Fugue No.19 in A, BWV864 4:43\n",
      "20  Prelude and Fugue No.20 in A-, BWV865 7:26\n",
      "21  Prelude and Fugue No.21 in Bb, BWV866 3:22\n",
      "22  Prelude and Fugue No.22 in Bb-, BWV867 5:39\n",
      "23  Prelude and Fugue No.23 in B, BWV868 3:37\n",
      "24  Prelude and Fugue No.24 in B-, BWV869 7:59\n",
      "20 https://www.classicalarchives.com/contributor/584.html Ryo Furue 584 1\n",
      "1  Prelude and Fugue No.7 in Eb, BWV852 ((organ arr.)) 6:43\n"
     ]
    }
   ],
   "source": [
    "# grp_r6eaja1f only 1 page, grp_vjaf53p5 20 pages\n",
    "# the grp_id changes dynamically!!!\n",
    "\n",
    "for work in wMidi.find_elements_by_xpath('.//li[starts-with(@id, \"grp_\")]'):\n",
    "    toggle = work.find_element_by_xpath('.//a[starts-with(@id, \"work_\")]')\n",
    "    work_name = toggle.text\n",
    "    work_id = toggle.get_attribute('id')\n",
    "    if work_id != 'work_2363':\n",
    "        continue\n",
    "    if work.get_attribute('class') == 'toggle':\n",
    "        toggle.click()\n",
    "        \n",
    "    # start from page 1\n",
    "    first_page = work.find_element_by_xpath('.//*[@class=\"yui-pg-first\"]')\n",
    "    first_page.click()\n",
    "    \n",
    "    # go through the pages\n",
    "    while True:\n",
    "        current_page = int(work.find_element_by_xpath('.//span[@class=\"yui-pg-current-page yui-pg-page\"]').text)\n",
    "        next_page = work.find_element_by_xpath('.//*[@class=\"yui-pg-next\"]')\n",
    "        \n",
    "        contributor = work.find_element_by_xpath('.//div[@class=\"details\"]//a')\n",
    "        contributor_url = contributor.get_attribute('href')\n",
    "        contributor_id = contributor_url.split('/')[-1].split('.')[0]\n",
    "        contributor_name = contributor.text\n",
    "        num_track = work.find_element_by_xpath('.//div[@class=\"buy\"]//p').text\n",
    "        num_track = int(num_track.split()[0])\n",
    "        \n",
    "        print(current_page, contributor_url, contributor_name, contributor_id, num_track)\n",
    "            \n",
    "        # get track list\n",
    "        track_list = work.find_elements_by_xpath('.//table[@class=\"trackList\"]//tr')\n",
    "        track_prefix = ''\n",
    "        index = 1\n",
    "        \n",
    "        for track in track_list:\n",
    "            tmp_html = track.get_attribute('innerHTML').strip()\n",
    "            if tmp_html.startswith('<th '):\n",
    "                track_prefix = track.find_element_by_xpath('.//th').text\n",
    "                continue\n",
    "            track_name = (track_prefix + \" \" + \n",
    "                          track.find_element_by_xpath('.//td[@class=\"tlTitle\"]').text)\n",
    "            track_length = track.find_element_by_xpath('.//td[@class=\"tlLen\"]').text\n",
    "            print(index, track_name, track_length)\n",
    "            index += 1\n",
    "                    \n",
    "        # check if reaching the last page\n",
    "        if not next_page.get_attribute('href'):\n",
    "            break\n",
    "        next_page.click()\n",
    "    \n"
   ]
  },
  {
   "cell_type": "code",
   "execution_count": 358,
   "metadata": {},
   "outputs": [
    {
     "data": {
      "text/plain": [
       "True"
      ]
     },
     "execution_count": 358,
     "metadata": {},
     "output_type": "execute_result"
    }
   ],
   "source": [
    "driver.save_screenshot('foo.png')"
   ]
  },
  {
   "cell_type": "code",
   "execution_count": null,
   "metadata": {},
   "outputs": [],
   "source": []
  }
 ],
 "metadata": {
  "kernelspec": {
   "display_name": "Python 3",
   "language": "python",
   "name": "python3"
  },
  "language_info": {
   "codemirror_mode": {
    "name": "ipython",
    "version": 3
   },
   "file_extension": ".py",
   "mimetype": "text/x-python",
   "name": "python",
   "nbconvert_exporter": "python",
   "pygments_lexer": "ipython3",
   "version": "3.5.1"
  }
 },
 "nbformat": 4,
 "nbformat_minor": 2
}
