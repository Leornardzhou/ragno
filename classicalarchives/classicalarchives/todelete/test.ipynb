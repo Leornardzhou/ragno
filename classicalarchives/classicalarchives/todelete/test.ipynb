{
 "cells": [
  {
   "cell_type": "code",
   "execution_count": 50,
   "metadata": {},
   "outputs": [],
   "source": [
    "import sys\n",
    "import imp\n",
    "import time\n",
    "import utils\n",
    "import cma\n",
    "import session\n",
    "imp.reload(utils)\n",
    "imp.reload(session)\n",
    "imp.reload(cma)"
   ]
  },
  {
   "cell_type": "code",
   "execution_count": 61,
   "metadata": {},
   "outputs": [],
   "source": [
    "# common utilities    \n",
    "\n",
    "def utils_debug_print(msg):\n",
    "    "
   ]
  },
  {
   "cell_type": "code",
   "execution_count": 63,
   "metadata": {},
   "outputs": [],
   "source": [
    "class Session:\n",
    "    \n",
    "    \n",
    "    cma_domain = 'https://www.classicalarchives.com'\n",
    "    \n",
    "\n",
    "    def __init__(self, driver_type, wait_time=3):\n",
    "\n",
    "        self.driver_type = driver_type\n",
    "        if driver_type == 'chrome':\n",
    "            self.driver = webdriver.Chrome()\n",
    "        elif driver_type == 'phantomjs':\n",
    "            self.driver = webdriver.PhantomJS()\n",
    "        elif driver_type == 'firefox':\n",
    "            self.driver = webdriver.Firefox()\n",
    "        self.driver.implicitly_wait(wait_time)\n",
    "        self.username = None\n",
    "        self.password = None\n",
    "\n",
    "\n",
    "    def close(self):\n",
    "        self.driver.quit()\n",
    "\n",
    "\n",
    "    def open_url(self, url, echo=False):\n",
    "        if seld.driver.current_url == url:\n",
    "            return\n",
    "        if echo:\n",
    "            utils_debug_print('opening url: ' + url)\n",
    "        self.driver.get(url)\n",
    "\n",
    "\n",
    "    def login(self, credential_json):\n",
    "        info = json.loads(open(credential_json).read())\n",
    "        self.username = info['username']\n",
    "        self.password = info['password']\n",
    "\n",
    "        cma_login_url = self.cma_domain + '/secure/login.html'\n",
    "        self.open_url(cmd_login_url)\n",
    "        self.driver.find_element_by_id('email').send_keys(self.username)\n",
    "        self.driver.find_element_by_id('password').send_keys(self.password)\n",
    "        self.driver.find_element_by_xpath('//button[@type=\"submit\"]').click()\n",
    "\n",
    "\n",
    "    def logout(self):\n",
    "        self.username = None\n",
    "        self.password = None\n",
    "        cma_logout_url = self.cma_domain + '/secure/logout.html'\n",
    "        self.open_url(cma_logout_url)\n",
    "\n",
    "\n",
    "    def is_login(self):\n",
    "        try:\n",
    "            name = self.driver.find_element_by_id('welcome-name').text\n",
    "        except:\n",
    "            name = ''\n",
    "        if name:\n",
    "            utils_debug_print('Hello {}!'.format(name))\n",
    "            return True\n",
    "        else:\n",
    "            utils_debug_print('You not login.')\n",
    "            return False\n",
    "\n",
    "    # --------------------------------------------------------------------------------\n",
    "    # for developing purpose, all other methods are defined outside of class\n",
    "    # since reloading the class (driver etc) is too expensive during development phase\n"
   ]
  },
  {
   "cell_type": "code",
   "execution_count": 66,
   "metadata": {},
   "outputs": [],
   "source": []
  },
  {
   "cell_type": "code",
   "execution_count": 64,
   "metadata": {},
   "outputs": [
    {
     "ename": "AttributeError",
     "evalue": "'Session' object has no attribute 'midi_composers_get_all_composers_with_initial'",
     "output_type": "error",
     "traceback": [
      "\u001b[0;31m---------------------------------------------------------------------------\u001b[0m",
      "\u001b[0;31mAttributeError\u001b[0m                            Traceback (most recent call last)",
      "\u001b[0;32m<ipython-input-64-82bb32480111>\u001b[0m in \u001b[0;36m<module>\u001b[0;34m()\u001b[0m\n\u001b[0;32m----> 1\u001b[0;31m \u001b[0msess\u001b[0m\u001b[0;34m.\u001b[0m\u001b[0mmidi_composers_get_all_composers_with_initial\u001b[0m\u001b[0;34m(\u001b[0m\u001b[0;34m'a'\u001b[0m\u001b[0;34m)\u001b[0m\u001b[0;34m\u001b[0m\u001b[0m\n\u001b[0m",
      "\u001b[0;31mAttributeError\u001b[0m: 'Session' object has no attribute 'midi_composers_get_all_composers_with_initial'"
     ]
    }
   ],
   "source": [
    "midi_composers_get_all_composers_with_initial(sess.driver, 'a')"
   ]
  },
  {
   "cell_type": "code",
   "execution_count": null,
   "metadata": {},
   "outputs": [],
   "source": []
  },
  {
   "cell_type": "code",
   "execution_count": 55,
   "metadata": {},
   "outputs": [],
   "source": [
    "sess.close()"
   ]
  },
  {
   "cell_type": "code",
   "execution_count": 56,
   "metadata": {},
   "outputs": [],
   "source": [
    "sess = session.Session('chrome',wait_time=5)"
   ]
  },
  {
   "cell_type": "code",
   "execution_count": 59,
   "metadata": {
    "collapsed": true
   },
   "outputs": [
    {
     "name": "stderr",
     "output_type": "stream",
     "text": [
      "> Hello Zhuoyi!\n"
     ]
    },
    {
     "data": {
      "text/plain": [
       "True"
      ]
     },
     "execution_count": 59,
     "metadata": {},
     "output_type": "execute_result"
    }
   ],
   "source": [
    "sess.is_login()"
   ]
  },
  {
   "cell_type": "code",
   "execution_count": 58,
   "metadata": {},
   "outputs": [],
   "source": [
    "sess.login('credential.json')"
   ]
  },
  {
   "cell_type": "code",
   "execution_count": 60,
   "metadata": {},
   "outputs": [],
   "source": [
    "sess.logout()"
   ]
  },
  {
   "cell_type": "code",
   "execution_count": null,
   "metadata": {},
   "outputs": [],
   "source": []
  },
  {
   "cell_type": "code",
   "execution_count": null,
   "metadata": {},
   "outputs": [],
   "source": [
    "def midi_composers_get_all_composers(sess, initial):\n",
    "    sees.\n",
    "    sess.open_url()\n",
    "    ''' {'info':'', 'url':''} '''\n",
    "    composer_list = []\n",
    "    for url in crawler.group_url_list():\n",
    "        self.open_url(url)\n",
    "        out = crawler.group_composer_list(self.driver)\n",
    "        composer_list.extend(out)\n",
    "        self.debug_print('found {} composers'.format(len(out)))\n",
    "    return composer_list"
   ]
  },
  {
   "cell_type": "code",
   "execution_count": 33,
   "metadata": {},
   "outputs": [],
   "source": [
    "# replace sess with self\n",
    "# replace crawl_ with crawl.\n",
    "\n",
    "def expand_work(work):\n",
    "    toggle = work.find_element_by_xpath('..').get_attribute('class')\n",
    "    if toggle == 'toggle':\n",
    "        work.click()\n",
    "        time.sleep(1)\n",
    "\n",
    "        \n",
    "def collapse_work(work):\n",
    "    toggle = work.find_element_by_xpath('..').get_attribute('class')\n",
    "    if toggle == 'toggle expanded':\n",
    "        work.click()\n",
    "        time.sleep(1)\n",
    "\n",
    "        \n",
    "def get_work_title_nmidi(work):\n",
    "    title = work.text\n",
    "    nmidi = int(work.find_element_by_xpath('../div[@class=\"infolabel\"]').text.split()[0])\n",
    "    return title, nmidi\n",
    "\n",
    "\n",
    "def get_work_page_sect(work):\n",
    "    page_sect = work.find_element_by_xpath('../div/div[1]')\n",
    "    return page_sect\n",
    "\n",
    "\n",
    "def get_work_page_content(work):\n",
    "    page_content = work.find_element_by_xpath('../div/div[2]')\n",
    "    return page_content\n",
    "\n",
    "\n",
    "def goto_work_first_page(page_sect):\n",
    "    elem = page_sect.find_element_by_class_name('yui-pg-first')\n",
    "    if elem.tag_name == 'a':\n",
    "        elem.click()\n",
    "\n",
    "        \n",
    "def goto_work_last_page(page_sect):\n",
    "    elem = page_sect.find_element_by_class_name('yui-pg-last')\n",
    "    if elem.tag_name == 'a':\n",
    "        elem.click()\n",
    "        \n",
    "\n",
    "def goto_work_prev_page(page_sect):\n",
    "    elem = page_sect.find_element_by_class_name('yui-pg-previous')\n",
    "    if elem.tag_name == 'a':\n",
    "        elem.click()\n",
    "        return True\n",
    "    else:\n",
    "        return False\n",
    "        \n",
    "\n",
    "def goto_work_next_page(page_sect):\n",
    "    elem = page_sect.find_element_by_class_name('yui-pg-next')\n",
    "    if elem.tag_name == 'a':\n",
    "        elem.click()\n",
    "        return True\n",
    "    else:\n",
    "        return False        \n",
    "        \n",
    "        \n",
    "def get_work_current_page(page_sect):\n",
    "    elem = page_sect.find_element_by_class_name('yui-pg-current-page')\n",
    "    return int(elem.text)\n",
    "\n",
    "\n",
    "def get_work_num_page(page_sect):\n",
    "    goto_work_last_page(page_sect)\n",
    "    return get_work_current_page(page_sect)\n",
    "\n",
    "\n",
    "def goto_work_page_id(page_sect, page_id):\n",
    "    goto_work_first_page(page_sect)\n",
    "    index = 1\n",
    "    while index != page_id:\n",
    "        goto_work_next_page(page_sect)\n",
    "        index += 1\n",
    "        time.sleep(0.1)\n",
    "    \n",
    "        \n",
    "def get_page_contributer(page_content):\n",
    "    # contributor name, id, total_length, num_track\n",
    "    performance = page_content.find_element_by_class_name('performance')\n",
    "    contributor = performance.find_element_by_xpath('./div[@class=\"details\"]//a')\n",
    "    name = contributor.text\n",
    "    url = contributor.get_attribute('href')\n",
    "    length = performance.find_element_by_xpath('./div[@class=\"play\"]//div[@class=\"time\"]').text\n",
    "    num_track = int(performance.find_element_by_xpath('./div[@class=\"buy\"]//p').text.split()[0])\n",
    "    return name, url, length, num_track\n",
    "\n",
    "\n",
    "def find_page_all_tracks(page_content):\n",
    "    # each track has title, length, download_button\n",
    "    out = []\n",
    "    track_list = page_content.find_element_by_class_name('trackList')\n",
    "    title_prefix = ''\n",
    "    for tr_elem in page_content.find_elements_by_xpath('.//tr'):\n",
    "        td_elem_list = tr_elem.find_elements_by_tag_name('td')\n",
    "        if len(td_elem_list) == 0:\n",
    "            title_prefix = tr_elem.text + ' '\n",
    "            continue\n",
    "        title = ''\n",
    "        length = ''\n",
    "        down_button = None\n",
    "        for td in td_elem_list:\n",
    "            if td.get_attribute('class') == 'tlTitle':\n",
    "                title = title_prefix + td.text\n",
    "            elif td.get_attribute('class') == 'tlLen':\n",
    "                length = td.text\n",
    "            elif td.get_attribute('class') == 'tlAdd':\n",
    "                down_button = td.find_element_by_class_name('dl')\n",
    "        out.append([title, length, down_button])\n",
    "    return out\n",
    "        \n",
    "    \n",
    "def find_all_works(driver):\n",
    "    return driver.find_elements_by_xpath('//div[@id=\"wMidi\"]//a[starts-with(@id, \"work_\")]')\n",
    "\n",
    "\n",
    "def find_work_by_id(driver, work_id):\n",
    "    return driver.find_elements_by_xpath('//div[@id=\"wMidi\"]//a[starts-with(@id, \"' + work_id + '\")]')\n",
    "\n",
    "\n",
    "def get_work_id(work):\n",
    "    return work.get_attribute('id')\n",
    "\n",
    "\n",
    "def get_composer_info(driver):    \n",
    "    elem = driver.find_element_by_xpath('//h1[@class=\"composer\"]')\n",
    "    info = elem.find_element_by_class_name('person_details').text\n",
    "    name = elem.text.replace(info, '').rstrip()\n",
    "    return name, info\n",
    "\n",
    "    \n",
    "def get_composer_all_works(driver, url_composer):\n",
    "#   url_composer = 'https://www.classicalarchives.com/midi/composer/2113.html'\n",
    "#   url_composer = 'https://www.classicalarchives.com/midi/composer/2068.html'\n",
    "    composer_id = '14'\n",
    "    url_composer = 'https://www.classicalarchives.com/midi/composer/{}.html'.format(composer_id)\n",
    "    sess.open_url(url_composer)\n",
    "    \n",
    "    # test1\n",
    "    print(get_composer_info(driver))\n",
    "    return\n",
    "        \n",
    "    # loop through all works\n",
    "    # for each track: we record:\n",
    "    # unique IDs: composer_id, work_id, page_id, track_id\n",
    "    # auxiliary information:\n",
    "    # per composer: composer_id, composer_info, composer_num_track\n",
    "    # per work: work_id, work_title, work_num_midi, work_num_page\n",
    "    # per page: page_id, contributor_id, contributor_name, page_total_length, page_num_track\n",
    "    # per track: track_id, track_name, track_length, track_button\n",
    "    \n",
    "    for i, work in enumerate(find_all_works(driver)):\n",
    "#     for i, work in enumerate(find_work_by_id(driver, 'work_2363')):\n",
    "\n",
    "        # information per work\n",
    "        expand_work(work)\n",
    "        work_id = get_work_id(work)\n",
    "        title, num_midi = get_work_title_nmidi(work)\n",
    "        page_sect = get_work_page_sect(work)\n",
    "        num_page = get_work_num_page(page_sect)\n",
    "        print([work_id, title, num_midi, num_page])\n",
    "        \n",
    "        # loop through all pages\n",
    "        for page_id in range(1, num_page+1):\n",
    "            goto_work_page_id(page_sect, page_id)\n",
    "            page_content = get_work_page_content(work)\n",
    "            name, url, length, num_track = get_page_contributer(page_content)\n",
    "            print([name, url, length, num_track])\n",
    "            print(find_page_all_tracks(page_content))\n",
    "            print()\n",
    "            \n",
    "        print()\n",
    "        \n",
    "        if i == 3:\n",
    "            break\n",
    "    \n",
    "    "
   ]
  },
  {
   "cell_type": "code",
   "execution_count": 34,
   "metadata": {},
   "outputs": [
    {
     "name": "stdout",
     "output_type": "stream",
     "text": [
      "('Sam Adams', '(1977-)')\n"
     ]
    }
   ],
   "source": [
    "get_composer_all_works(sess.driver, '')"
   ]
  },
  {
   "cell_type": "code",
   "execution_count": null,
   "metadata": {},
   "outputs": [],
   "source": [
    "sess.close()"
   ]
  },
  {
   "cell_type": "code",
   "execution_count": null,
   "metadata": {},
   "outputs": [],
   "source": []
  }
 ],
 "metadata": {
  "kernelspec": {
   "display_name": "Python 3",
   "language": "python",
   "name": "python3"
  },
  "language_info": {
   "codemirror_mode": {
    "name": "ipython",
    "version": 3
   },
   "file_extension": ".py",
   "mimetype": "text/x-python",
   "name": "python",
   "nbconvert_exporter": "python",
   "pygments_lexer": "ipython3",
   "version": "3.5.1"
  }
 },
 "nbformat": 4,
 "nbformat_minor": 2
}
