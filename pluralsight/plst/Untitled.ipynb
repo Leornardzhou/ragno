{
 "cells": [
  {
   "cell_type": "code",
   "execution_count": 66,
   "metadata": {},
   "outputs": [],
   "source": [
    "import utils\n",
    "import session\n",
    "import sys\n",
    "import imp\n",
    "import time\n",
    "# imp.reload(session)\n",
    "imp.reload(utils)\n",
    "import search"
   ]
  },
  {
   "cell_type": "code",
   "execution_count": 26,
   "metadata": {},
   "outputs": [],
   "source": [
    "driver = utils.start_driver('chrome')"
   ]
  },
  {
   "cell_type": "code",
   "execution_count": 27,
   "metadata": {},
   "outputs": [
    {
     "name": "stderr",
     "output_type": "stream",
     "text": [
      "> loading json input/credential.json\n",
      "> openning URL: https://app.pluralsight.com/id?redirectTo=%2F\n"
     ]
    }
   ],
   "source": [
    "session.login(driver, 'input/credential.json')"
   ]
  },
  {
   "cell_type": "code",
   "execution_count": 5,
   "metadata": {},
   "outputs": [],
   "source": []
  },
  {
   "cell_type": "code",
   "execution_count": 45,
   "metadata": {},
   "outputs": [],
   "source": [
    "def scroll_to_end(driver):\n",
    "    utils.open_url(driver, 'https://app.pluralsight.com/library/search')\n",
    "    \n",
    "    # switch to Course tab\n",
    "    for elem in driver.find_elements_by_xpath('//li[@class=\"tab-list__item\"]'):\n",
    "        if elem.text == 'Courses':\n",
    "            elem.click()\n",
    "    \n",
    "    # define target elem\n",
    "    course_section = driver.find_element_by_xpath('//div[@aria-selected=\"true\"]')\n",
    "    \n",
    "    nload = 1\n",
    "    nload_max = 3\n",
    "    while True:\n",
    "        courses = course_section.find_elements_by_xpath('.//li[@class=\"courses-list__item\"]')\n",
    "        ncourses = len(courses)\n",
    "        print('load={}, ncourses={}'.format(nload, ncourses))\n",
    "        \n",
    "        if nload >= nload_max:\n",
    "            break\n",
    "            \n",
    "        nload += 1\n",
    "        buttons = course_section.find_elements_by_xpath('.//a[@class=\"button button--outlined\"]')\n",
    "        if len(buttons) == 0:\n",
    "            break\n",
    "        if len(buttons):\n",
    "            buttons[0].click()\n",
    "            \n",
    "        time.sleep(3)\n",
    "        \n",
    "    # save html\n",
    "    utils.save_html(driver, 'courses/all.html')\n"
   ]
  },
  {
   "cell_type": "code",
   "execution_count": 46,
   "metadata": {},
   "outputs": [
    {
     "name": "stdout",
     "output_type": "stream",
     "text": [
      "load=1, ncourses=5451\n"
     ]
    },
    {
     "name": "stderr",
     "output_type": "stream",
     "text": [
      "> writing html courses/all.html\n"
     ]
    }
   ],
   "source": [
    "scroll_to_end(driver)"
   ]
  },
  {
   "cell_type": "code",
   "execution_count": null,
   "metadata": {},
   "outputs": [],
   "source": [
    "def get_all_courses(driver):\n",
    "    \n",
    "    fout = open('a.json','w')\n",
    "    out_list = []\n",
    "    course_section = driver.find_element_by_xpath('//div[@aria-selected=\"true\"]')\n",
    "    course_list = course_section.find_elements_by_xpath('.//li[@class=\"courses-list__item\"]')\n",
    "    ncourse = 0\n",
    "    for course in course_list:\n",
    "        out = {}\n",
    "        course_header = course.find_element_by_xpath(\n",
    "            './/*[@class=\"courses-list__item-headers\"]/a')\n",
    "        out['title'] = course_header.get_attribute('title')\n",
    "        out['url'] = course_header.get_attribute('href')\n",
    "        course_meta = course.find_element_by_xpath(\n",
    "            './/*[@class=\"courses-list__item-meta\"]')\n",
    "        out['author'] = course_meta.find_element_by_xpath(\n",
    "            './p[@class=\"courses-list__item-authors\"]/span/a').text\n",
    "        out['level'] = course_meta.find_element_by_xpath(\n",
    "            './p[@class=\"courses-list__item-level\"]').text\n",
    "        out['date'] = course_meta.find_element_by_xpath(\n",
    "            './time[@class=\"courses-list__item-date\"]').text\n",
    "        out['level'] = course_meta.find_element_by_xpath(\n",
    "            './time[@class=\"courses-list__item-duration\"]').text\n",
    "        print(json.dumps(out,sort_keys=True), file=fout)\n",
    "        ncourse += 1\n",
    "        if ncourse % 200 == 0:\n",
    "            print('written {} lines'.format(ncourse))\n",
    "            \n",
    "    fout.close()\n",
    "        "
   ]
  },
  {
   "cell_type": "code",
   "execution_count": 50,
   "metadata": {
    "collapsed": true
   },
   "outputs": [
    {
     "name": "stdout",
     "output_type": "stream",
     "text": [
      "{'title': 'Angular: The Big Picture', 'url': 'https://app.pluralsight.com/library/courses/ng-big-picture', 'level': '1h 6m', 'date': 'Dec 13, 2017', 'author': 'Joe Eames'}\n",
      "{'title': 'Play by Play: Software Development in Swift - Beyond IOS', 'url': 'https://app.pluralsight.com/library/courses/play-by-play-software-development-swift-ios', 'level': '51m', 'date': 'Dec 13, 2017', 'author': 'Stephen Haunts'}\n",
      "{'title': 'Design Patterns Playbook: Structural Patterns', 'url': 'https://app.pluralsight.com/library/courses/design-patterns-structural-playbook', 'level': '1h 5m', 'date': 'Dec 13, 2017', 'author': 'Paolo Perrotta'}\n",
      "{'title': 'Extending AEM Advanced', 'url': 'https://app.pluralsight.com/library/courses/extending-aem-advanced', 'level': '6h 15m', 'date': 'Dec 13, 2017', 'author': 'Tyler Maynard'}\n",
      "{'title': 'Microsoft Dynamics 365 Customer Engagement (CRM): Getting Started', 'url': 'https://app.pluralsight.com/library/courses/microsoft-dynamics-365-crm-getting-started', 'level': '2h 20m', 'date': 'Dec 13, 2017', 'author': 'Amber Israelsen'}\n",
      "{'title': 'Postman Fundamentals', 'url': 'https://app.pluralsight.com/library/courses/postman-fundamentals', 'level': '2h 39m', 'date': 'Dec 12, 2017', 'author': 'Nate Taylor'}\n",
      "{'title': 'Continuous Integration with Atlassian Bamboo', 'url': 'https://app.pluralsight.com/library/courses/atlassian-bamboo-continuous-integration', 'level': '3h 2m', 'date': 'Dec 12, 2017', 'author': 'Jim Weaver'}\n",
      "{'title': 'Premiere Pro CC Essential Sound', 'url': 'https://app.pluralsight.com/library/courses/premiere-pro-cc-essential-sound', 'level': '1h 10m', 'date': 'Dec 11, 2017', 'author': 'Kelsey Brannan'}\n",
      "{'title': 'Scaffolding Spring Boot and Angular Web Apps with JHipster', 'url': 'https://app.pluralsight.com/library/courses/scaffolding-spring-boot-and-angular-with-jhipster', 'level': '2h 31m', 'date': 'Dec 11, 2017', 'author': 'Michael Hoffman'}\n",
      "{'title': 'Practical Enterprise JMS Playbook', 'url': 'https://app.pluralsight.com/library/courses/enterprise-jms-playbook', 'level': '1h 39m', 'date': 'Dec 11, 2017', 'author': 'Grant Little'}\n"
     ]
    }
   ],
   "source": [
    "get_all_courses(driver)"
   ]
  },
  {
   "cell_type": "code",
   "execution_count": 54,
   "metadata": {},
   "outputs": [],
   "source": [
    "course_section = driver.find_element_by_xpath('//div[@aria-selected=\"true\"]')\n",
    "\n",
    "ncourse_expect = course_section.find_element_by_xpath(\n",
    "        './/*[@class=\"l-search__results-page-info\"]')\n",
    "# .text.split()[1])"
   ]
  },
  {
   "cell_type": "code",
   "execution_count": 55,
   "metadata": {},
   "outputs": [
    {
     "data": {
      "text/plain": [
       "'Courses: 5451 results'"
      ]
     },
     "execution_count": 55,
     "metadata": {},
     "output_type": "execute_result"
    }
   ],
   "source": [
    "ncourse_expect.text"
   ]
  },
  {
   "cell_type": "code",
   "execution_count": 56,
   "metadata": {},
   "outputs": [
    {
     "data": {
      "text/plain": [
       "{'x': 140, 'y': 203}"
      ]
     },
     "execution_count": 56,
     "metadata": {},
     "output_type": "execute_result"
    }
   ],
   "source": [
    "course_section.location"
   ]
  },
  {
   "cell_type": "code",
   "execution_count": 64,
   "metadata": {},
   "outputs": [],
   "source": [
    "driver.execute_script(\"window.scrollTo(0, 2081);\")"
   ]
  },
  {
   "cell_type": "code",
   "execution_count": 60,
   "metadata": {},
   "outputs": [],
   "source": [
    "elem = driver.find_element_by_xpath('//*[@id=\"ps-main\"]/div/div/div/div[1]/div[2]/div[3]/div/div[2]/div/div[2]/ol/li[22]/div[1]/div[1]')"
   ]
  },
  {
   "cell_type": "code",
   "execution_count": 61,
   "metadata": {},
   "outputs": [
    {
     "data": {
      "text/plain": [
       "{'x': 482, 'y': 2281}"
      ]
     },
     "execution_count": 61,
     "metadata": {},
     "output_type": "execute_result"
    }
   ],
   "source": [
    "elem.location"
   ]
  },
  {
   "cell_type": "code",
   "execution_count": 65,
   "metadata": {},
   "outputs": [
    {
     "data": {
      "text/plain": [
       "2281"
      ]
     },
     "execution_count": 65,
     "metadata": {},
     "output_type": "execute_result"
    }
   ],
   "source": [
    "elem.location['y']"
   ]
  },
  {
   "cell_type": "code",
   "execution_count": 67,
   "metadata": {},
   "outputs": [
    {
     "ename": "TimeoutException",
     "evalue": "Message: timeout\n  (Session info: chrome=63.0.3239.84)\n  (Driver info: chromedriver=2.33.506106 (8a06c39c4582fbfbab6966dbb1c38a9173bfb1a2),platform=Mac OS X 10.13.1 x86_64)\n",
     "output_type": "error",
     "traceback": [
      "\u001b[0;31m---------------------------------------------------------------------------\u001b[0m",
      "\u001b[0;31mTimeoutException\u001b[0m                          Traceback (most recent call last)",
      "\u001b[0;32m<ipython-input-67-8534e41fd1b7>\u001b[0m in \u001b[0;36m<module>\u001b[0;34m()\u001b[0m\n\u001b[0;32m----> 1\u001b[0;31m \u001b[0msearch\u001b[0m\u001b[0;34m.\u001b[0m\u001b[0mget_all_courses\u001b[0m\u001b[0;34m(\u001b[0m\u001b[0mdriver\u001b[0m\u001b[0;34m,\u001b[0m \u001b[0;34m'all.json'\u001b[0m\u001b[0;34m)\u001b[0m\u001b[0;34m\u001b[0m\u001b[0m\n\u001b[0m",
      "\u001b[0;32m~/git/ragno/pluralsight/plst/search.py\u001b[0m in \u001b[0;36mget_all_courses\u001b[0;34m(driver, json_name)\u001b[0m\n\u001b[1;32m     80\u001b[0m             './time[@class=\"courses-list__item-date\"]').text\n\u001b[1;32m     81\u001b[0m         out['level'] = course_meta.find_element_by_xpath(\n\u001b[0;32m---> 82\u001b[0;31m             './time[@class=\"courses-list__item-duration\"]').text\n\u001b[0m\u001b[1;32m     83\u001b[0m         \u001b[0mncourse\u001b[0m \u001b[0;34m+=\u001b[0m \u001b[0;36m1\u001b[0m\u001b[0;34m\u001b[0m\u001b[0m\n\u001b[1;32m     84\u001b[0m         \u001b[0mout_list\u001b[0m\u001b[0;34m.\u001b[0m\u001b[0mappend\u001b[0m\u001b[0;34m(\u001b[0m\u001b[0mout\u001b[0m\u001b[0;34m)\u001b[0m\u001b[0;34m\u001b[0m\u001b[0m\n",
      "\u001b[0;32m/Library/Frameworks/Python.framework/Versions/3.5/lib/python3.5/site-packages/selenium/webdriver/remote/webelement.py\u001b[0m in \u001b[0;36mtext\u001b[0;34m(self)\u001b[0m\n\u001b[1;32m     74\u001b[0m     \u001b[0;32mdef\u001b[0m \u001b[0mtext\u001b[0m\u001b[0;34m(\u001b[0m\u001b[0mself\u001b[0m\u001b[0;34m)\u001b[0m\u001b[0;34m:\u001b[0m\u001b[0;34m\u001b[0m\u001b[0m\n\u001b[1;32m     75\u001b[0m         \u001b[0;34m\"\"\"The text of the element.\"\"\"\u001b[0m\u001b[0;34m\u001b[0m\u001b[0m\n\u001b[0;32m---> 76\u001b[0;31m         \u001b[0;32mreturn\u001b[0m \u001b[0mself\u001b[0m\u001b[0;34m.\u001b[0m\u001b[0m_execute\u001b[0m\u001b[0;34m(\u001b[0m\u001b[0mCommand\u001b[0m\u001b[0;34m.\u001b[0m\u001b[0mGET_ELEMENT_TEXT\u001b[0m\u001b[0;34m)\u001b[0m\u001b[0;34m[\u001b[0m\u001b[0;34m'value'\u001b[0m\u001b[0;34m]\u001b[0m\u001b[0;34m\u001b[0m\u001b[0m\n\u001b[0m\u001b[1;32m     77\u001b[0m \u001b[0;34m\u001b[0m\u001b[0m\n\u001b[1;32m     78\u001b[0m     \u001b[0;32mdef\u001b[0m \u001b[0mclick\u001b[0m\u001b[0;34m(\u001b[0m\u001b[0mself\u001b[0m\u001b[0;34m)\u001b[0m\u001b[0;34m:\u001b[0m\u001b[0;34m\u001b[0m\u001b[0m\n",
      "\u001b[0;32m/Library/Frameworks/Python.framework/Versions/3.5/lib/python3.5/site-packages/selenium/webdriver/remote/webelement.py\u001b[0m in \u001b[0;36m_execute\u001b[0;34m(self, command, params)\u001b[0m\n\u001b[1;32m    499\u001b[0m             \u001b[0mparams\u001b[0m \u001b[0;34m=\u001b[0m \u001b[0;34m{\u001b[0m\u001b[0;34m}\u001b[0m\u001b[0;34m\u001b[0m\u001b[0m\n\u001b[1;32m    500\u001b[0m         \u001b[0mparams\u001b[0m\u001b[0;34m[\u001b[0m\u001b[0;34m'id'\u001b[0m\u001b[0;34m]\u001b[0m \u001b[0;34m=\u001b[0m \u001b[0mself\u001b[0m\u001b[0;34m.\u001b[0m\u001b[0m_id\u001b[0m\u001b[0;34m\u001b[0m\u001b[0m\n\u001b[0;32m--> 501\u001b[0;31m         \u001b[0;32mreturn\u001b[0m \u001b[0mself\u001b[0m\u001b[0;34m.\u001b[0m\u001b[0m_parent\u001b[0m\u001b[0;34m.\u001b[0m\u001b[0mexecute\u001b[0m\u001b[0;34m(\u001b[0m\u001b[0mcommand\u001b[0m\u001b[0;34m,\u001b[0m \u001b[0mparams\u001b[0m\u001b[0;34m)\u001b[0m\u001b[0;34m\u001b[0m\u001b[0m\n\u001b[0m\u001b[1;32m    502\u001b[0m \u001b[0;34m\u001b[0m\u001b[0m\n\u001b[1;32m    503\u001b[0m     \u001b[0;32mdef\u001b[0m \u001b[0mfind_element\u001b[0m\u001b[0;34m(\u001b[0m\u001b[0mself\u001b[0m\u001b[0;34m,\u001b[0m \u001b[0mby\u001b[0m\u001b[0;34m=\u001b[0m\u001b[0mBy\u001b[0m\u001b[0;34m.\u001b[0m\u001b[0mID\u001b[0m\u001b[0;34m,\u001b[0m \u001b[0mvalue\u001b[0m\u001b[0;34m=\u001b[0m\u001b[0;32mNone\u001b[0m\u001b[0;34m)\u001b[0m\u001b[0;34m:\u001b[0m\u001b[0;34m\u001b[0m\u001b[0m\n",
      "\u001b[0;32m/Library/Frameworks/Python.framework/Versions/3.5/lib/python3.5/site-packages/selenium/webdriver/remote/webdriver.py\u001b[0m in \u001b[0;36mexecute\u001b[0;34m(self, driver_command, params)\u001b[0m\n\u001b[1;32m    306\u001b[0m         \u001b[0mresponse\u001b[0m \u001b[0;34m=\u001b[0m \u001b[0mself\u001b[0m\u001b[0;34m.\u001b[0m\u001b[0mcommand_executor\u001b[0m\u001b[0;34m.\u001b[0m\u001b[0mexecute\u001b[0m\u001b[0;34m(\u001b[0m\u001b[0mdriver_command\u001b[0m\u001b[0;34m,\u001b[0m \u001b[0mparams\u001b[0m\u001b[0;34m)\u001b[0m\u001b[0;34m\u001b[0m\u001b[0m\n\u001b[1;32m    307\u001b[0m         \u001b[0;32mif\u001b[0m \u001b[0mresponse\u001b[0m\u001b[0;34m:\u001b[0m\u001b[0;34m\u001b[0m\u001b[0m\n\u001b[0;32m--> 308\u001b[0;31m             \u001b[0mself\u001b[0m\u001b[0;34m.\u001b[0m\u001b[0merror_handler\u001b[0m\u001b[0;34m.\u001b[0m\u001b[0mcheck_response\u001b[0m\u001b[0;34m(\u001b[0m\u001b[0mresponse\u001b[0m\u001b[0;34m)\u001b[0m\u001b[0;34m\u001b[0m\u001b[0m\n\u001b[0m\u001b[1;32m    309\u001b[0m             response['value'] = self._unwrap_value(\n\u001b[1;32m    310\u001b[0m                 response.get('value', None))\n",
      "\u001b[0;32m/Library/Frameworks/Python.framework/Versions/3.5/lib/python3.5/site-packages/selenium/webdriver/remote/errorhandler.py\u001b[0m in \u001b[0;36mcheck_response\u001b[0;34m(self, response)\u001b[0m\n\u001b[1;32m    192\u001b[0m         \u001b[0;32melif\u001b[0m \u001b[0mexception_class\u001b[0m \u001b[0;34m==\u001b[0m \u001b[0mUnexpectedAlertPresentException\u001b[0m \u001b[0;32mand\u001b[0m \u001b[0;34m'alert'\u001b[0m \u001b[0;32min\u001b[0m \u001b[0mvalue\u001b[0m\u001b[0;34m:\u001b[0m\u001b[0;34m\u001b[0m\u001b[0m\n\u001b[1;32m    193\u001b[0m             \u001b[0;32mraise\u001b[0m \u001b[0mexception_class\u001b[0m\u001b[0;34m(\u001b[0m\u001b[0mmessage\u001b[0m\u001b[0;34m,\u001b[0m \u001b[0mscreen\u001b[0m\u001b[0;34m,\u001b[0m \u001b[0mstacktrace\u001b[0m\u001b[0;34m,\u001b[0m \u001b[0mvalue\u001b[0m\u001b[0;34m[\u001b[0m\u001b[0;34m'alert'\u001b[0m\u001b[0;34m]\u001b[0m\u001b[0;34m.\u001b[0m\u001b[0mget\u001b[0m\u001b[0;34m(\u001b[0m\u001b[0;34m'text'\u001b[0m\u001b[0;34m)\u001b[0m\u001b[0;34m)\u001b[0m\u001b[0;34m\u001b[0m\u001b[0m\n\u001b[0;32m--> 194\u001b[0;31m         \u001b[0;32mraise\u001b[0m \u001b[0mexception_class\u001b[0m\u001b[0;34m(\u001b[0m\u001b[0mmessage\u001b[0m\u001b[0;34m,\u001b[0m \u001b[0mscreen\u001b[0m\u001b[0;34m,\u001b[0m \u001b[0mstacktrace\u001b[0m\u001b[0;34m)\u001b[0m\u001b[0;34m\u001b[0m\u001b[0m\n\u001b[0m\u001b[1;32m    195\u001b[0m \u001b[0;34m\u001b[0m\u001b[0m\n\u001b[1;32m    196\u001b[0m     \u001b[0;32mdef\u001b[0m \u001b[0m_value_or_default\u001b[0m\u001b[0;34m(\u001b[0m\u001b[0mself\u001b[0m\u001b[0;34m,\u001b[0m \u001b[0mobj\u001b[0m\u001b[0;34m,\u001b[0m \u001b[0mkey\u001b[0m\u001b[0;34m,\u001b[0m \u001b[0mdefault\u001b[0m\u001b[0;34m)\u001b[0m\u001b[0;34m:\u001b[0m\u001b[0;34m\u001b[0m\u001b[0m\n",
      "\u001b[0;31mTimeoutException\u001b[0m: Message: timeout\n  (Session info: chrome=63.0.3239.84)\n  (Driver info: chromedriver=2.33.506106 (8a06c39c4582fbfbab6966dbb1c38a9173bfb1a2),platform=Mac OS X 10.13.1 x86_64)\n"
     ]
    }
   ],
   "source": [
    "search.get_all_courses(driver, 'all.json')"
   ]
  },
  {
   "cell_type": "code",
   "execution_count": null,
   "metadata": {},
   "outputs": [],
   "source": []
  }
 ],
 "metadata": {
  "kernelspec": {
   "display_name": "Python 3",
   "language": "python",
   "name": "python3"
  },
  "language_info": {
   "codemirror_mode": {
    "name": "ipython",
    "version": 3
   },
   "file_extension": ".py",
   "mimetype": "text/x-python",
   "name": "python",
   "nbconvert_exporter": "python",
   "pygments_lexer": "ipython3",
   "version": "3.5.1"
  }
 },
 "nbformat": 4,
 "nbformat_minor": 2
}
